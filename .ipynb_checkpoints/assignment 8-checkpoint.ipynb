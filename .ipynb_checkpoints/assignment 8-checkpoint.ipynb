{
 "cells": [
  {
   "cell_type": "markdown",
   "id": "a2c23c18",
   "metadata": {},
   "source": [
    "### Get the square root of the numbers in a tuple."
   ]
  },
  {
   "cell_type": "code",
   "execution_count": 42,
   "id": "7fe77ce5",
   "metadata": {},
   "outputs": [
    {
     "name": "stdout",
     "output_type": "stream",
     "text": [
      "Square roots: [2.0, 3.0, 4.0, 5.0]\n"
     ]
    }
   ],
   "source": [
    "from math import sqrt\n",
    "def calculate_square_root(number):\n",
    "    return sqrt(number)\n",
    "tup= (4, 9, 16, 25)\n",
    "sqrt1 = map(calculate_square_root,tup)\n",
    "result = list(sqrt1)\n",
    "print(\"Square roots:\", result)"
   ]
  },
  {
   "cell_type": "markdown",
   "id": "97b63d6b",
   "metadata": {},
   "source": [
    "### Get the prime numbers from the numbers 11 to 30."
   ]
  },
  {
   "cell_type": "code",
   "execution_count": 19,
   "id": "5cfac358",
   "metadata": {},
   "outputs": [
    {
     "name": "stdout",
     "output_type": "stream",
     "text": [
      "Prime numbers: [11, 13, 17, 19, 23, 29]\n"
     ]
    }
   ],
   "source": [
    "is_prime = lambda x: all(x % i != 0 for i in range(2, int(x**0.5) + 1)) and x > 1\n",
    "prime_numbers = list(filter(is_prime, range(11, 31)))\n",
    "print(\"Prime numbers:\", prime_numbers)"
   ]
  },
  {
   "cell_type": "markdown",
   "id": "10bb6b47",
   "metadata": {},
   "source": [
    "### Create 2 lists of interger values, add both the list element-wise and filter the values which are greater than 10 and find the product of those value (Using lambda, map,filter and reduce)."
   ]
  },
  {
   "cell_type": "code",
   "execution_count": 35,
   "id": "843d76c5",
   "metadata": {},
   "outputs": [
    {
     "name": "stdout",
     "output_type": "stream",
     "text": [
      "List 1: [1, 5, 8, 12, 3]\n",
      "List 2: [4, 6, 10, 3, 2]\n",
      "Sum Result: [5, 11, 18, 15, 5]\n",
      "Filtered Values (> 10): [11, 18, 15]\n",
      "Product of Filtered Values: 2970\n"
     ]
    }
   ],
   "source": [
    "from functools import reduce\n",
    "list1 = [1, 5, 8, 12, 3]\n",
    "list2 = [4, 6, 10, 3, 2]\n",
    "Sum_of_the_value = list(map(lambda x, y: x + y, list1, list2))\n",
    "filtered_values = list(filter(lambda x: x > 10, Sum))\n",
    "product_of_those_value = reduce(lambda x, y: x * y, filtered_values)\n",
    "print(f\"List 1: {list1}\\nList 2: {list2}\\nSum Result: {Sum_of_the_value}\\nFiltered Values (> 10): {filtered_values}\\nProduct of Filtered Values: {product_of_those_value}\")"
   ]
  },
  {
   "cell_type": "code",
   "execution_count": null,
   "id": "bf4b677c",
   "metadata": {},
   "outputs": [],
   "source": []
  }
 ],
 "metadata": {
  "kernelspec": {
   "display_name": "Python 3 (ipykernel)",
   "language": "python",
   "name": "python3"
  },
  "language_info": {
   "codemirror_mode": {
    "name": "ipython",
    "version": 3
   },
   "file_extension": ".py",
   "mimetype": "text/x-python",
   "name": "python",
   "nbconvert_exporter": "python",
   "pygments_lexer": "ipython3",
   "version": "3.11.5"
  }
 },
 "nbformat": 4,
 "nbformat_minor": 5
}
