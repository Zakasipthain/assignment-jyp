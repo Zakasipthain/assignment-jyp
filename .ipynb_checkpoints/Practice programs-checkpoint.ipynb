{
 "cells": [
  {
   "cell_type": "code",
   "execution_count": 1,
   "id": "ff34856a",
   "metadata": {},
   "outputs": [
    {
     "name": "stdout",
     "output_type": "stream",
     "text": [
      "Enter the base number:10\n",
      "Enter the power number:2\n",
      "the power of a number is: 100\n"
     ]
    }
   ],
   "source": [
    "# 1. Python Program to Compute the Power of a Number.\n",
    "base= int(input(\"Enter the base number:\"))\n",
    "power= int(input(\"Enter the power number:\"))\n",
    "result = base**power\n",
    "print(\"the power of a number is:\", result)"
   ]
  },
  {
   "cell_type": "code",
   "execution_count": 9,
   "id": "cf61ea26",
   "metadata": {},
   "outputs": [
    {
     "name": "stdout",
     "output_type": "stream",
     "text": [
      "Enter a number: 256464\n",
      "The number of digits present is: 6\n"
     ]
    }
   ],
   "source": [
    "# 2 Python Program to Count the Number of Digits Present In a Number\n",
    "num = input(\"Enter a number: \")\n",
    "len(num)\n",
    "print(\"The number of digits present is:\",len(num))"
   ]
  },
  {
   "cell_type": "code",
   "execution_count": 16,
   "id": "7f162c7a",
   "metadata": {},
   "outputs": [
    {
     "name": "stdout",
     "output_type": "stream",
     "text": [
      "Original List: [1, 2, 2, 3, 4, 4, 5, 5, 5]\n",
      "List after removing duplicates: [1, 2, 3, 4, 5]\n"
     ]
    }
   ],
   "source": [
    "# 3.Python Program to Remove Duplicate Element From a List.\n",
    "List1 = [1, 2, 2, 3, 4, 4, 5, 5, 5]\n",
    "def remove_duplicates(input_list):\n",
    "    return list(set(input_list))\n",
    "List = remove_duplicates(List1)\n",
    "print(\"Original List:\", List1)\n",
    "print(\"List after removing duplicates:\",List)"
   ]
  },
  {
   "cell_type": "code",
   "execution_count": 47,
   "id": "4f56f287",
   "metadata": {},
   "outputs": [
    {
     "name": "stdout",
     "output_type": "stream",
     "text": [
      "Enter the year:2001\n",
      "Enter the month (1-12):11\n",
      "   November 2001\n",
      "Mo Tu We Th Fr Sa Su\n",
      "          1  2  3  4\n",
      " 5  6  7  8  9 10 11\n",
      "12 13 14 15 16 17 18\n",
      "19 20 21 22 23 24 25\n",
      "26 27 28 29 30\n",
      "\n"
     ]
    }
   ],
   "source": [
    "# 4.Python Program to Display Calendar\n",
    "import calendar\n",
    "year = int(input(\"Enter the year:\"))\n",
    "month = int(input(\"Enter the month (1-12):\"))\n",
    "cal = calendar.month(year, month)\n",
    "print(cal)"
   ]
  },
  {
   "cell_type": "code",
   "execution_count": 43,
   "id": "007e7607",
   "metadata": {},
   "outputs": [
    {
     "name": "stdout",
     "output_type": "stream",
     "text": [
      "Array: [10, 20, 30, 40, 50]\n",
      "Sum of Array is : 150\n"
     ]
    }
   ],
   "source": [
    "# 5.Python Program to find the sum of arrays.\n",
    "array = [10, 20, 30, 40, 50]\n",
    "array_sum = sum(array)\n",
    "print(\"Array:\", array)\n",
    "print(\"Sum of Array is :\", array_sum)"
   ]
  },
  {
   "cell_type": "code",
   "execution_count": 12,
   "id": "6b64a40b",
   "metadata": {},
   "outputs": [
    {
     "name": "stdout",
     "output_type": "stream",
     "text": [
      "input the url:https://news.google.com/home\n",
      "URL found: https://news.google.com/home\n"
     ]
    }
   ],
   "source": [
    "# 6. Python | Check for URL in a String.\n",
    "input_string= input(\"input the url:\")\n",
    "def check_for_url(input_string):\n",
    "    words = input_string.split()\n",
    "    for word in words:\n",
    "        if word.startswith(\"http://\") or word.startswith(\"https://\"):\n",
    "            print(\"URL found:\",word)\n",
    "check_for_url(input_string)"
   ]
  },
  {
   "cell_type": "code",
   "execution_count": 67,
   "id": "d8b425db",
   "metadata": {},
   "outputs": [
    {
     "name": "stdout",
     "output_type": "stream",
     "text": [
      "[(1, 1), (2, 8), (3, 27), (4, 64), (5, 125)]\n"
     ]
    }
   ],
   "source": [
    "# 7. Create a list of tuples from the given list having number and its cube in each tuple.\n",
    "numbers = [1, 2, 3, 4, 5]\n",
    "cubes = [(num, num ** 3) for num in numbers]\n",
    "print(cubes)"
   ]
  },
  {
   "cell_type": "code",
   "execution_count": 69,
   "id": "45f562d2",
   "metadata": {},
   "outputs": [
    {
     "name": "stdout",
     "output_type": "stream",
     "text": [
      "['one', 'two', 'three', 'four', 'five', 'six', 'seven', 'eight']\n",
      "my list after delete all elemnt []\n"
     ]
    }
   ],
   "source": [
    "# 8. Python program to Delete all Elements in List.\n",
    "mylist = ['one' , 'two' , 'three' , 'four' , 'five' , 'six' ,\n",
    "          'seven' , 'eight']\n",
    "print(mylist)\n",
    "mylist.clear()\n",
    "print(\"my list after delete all elemnt\", mylist)"
   ]
  },
  {
   "cell_type": "code",
   "execution_count": 70,
   "id": "4848f3bf",
   "metadata": {},
   "outputs": [],
   "source": [
    "# 9. Python Program to Enter Basic Salary and Calculate Gross Salary of an Employee.\n"
   ]
  },
  {
   "cell_type": "code",
   "execution_count": 89,
   "id": "09359f5c",
   "metadata": {},
   "outputs": [
    {
     "name": "stdout",
     "output_type": "stream",
     "text": [
      "366\n",
      "7\n",
      "The average of the numbers is: 52.285714285714285\n"
     ]
    }
   ],
   "source": [
    "# 10. Python Program to Calculate the Average of Numbers in a Given List\n",
    "numbers = [23, 45, 67, 89, 12, 56, 74]\n",
    "def calculate_average(numbers):\n",
    "    total_sum = sum(numbers)\n",
    "    num_count = len(numbers)\n",
    "    print(sum(numbers))\n",
    "    print(len(numbers))\n",
    "    average = total_sum / num_count\n",
    "    return average\n",
    "avg = calculate_average(numbers)\n",
    "print(f\"The average of the numbers is:\",avg)"
   ]
  }
 ],
 "metadata": {
  "kernelspec": {
   "display_name": "Python 3 (ipykernel)",
   "language": "python",
   "name": "python3"
  },
  "language_info": {
   "codemirror_mode": {
    "name": "ipython",
    "version": 3
   },
   "file_extension": ".py",
   "mimetype": "text/x-python",
   "name": "python",
   "nbconvert_exporter": "python",
   "pygments_lexer": "ipython3",
   "version": "3.11.5"
  }
 },
 "nbformat": 4,
 "nbformat_minor": 5
}
