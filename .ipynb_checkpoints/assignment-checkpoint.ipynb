{
 "cells": [
  {
   "cell_type": "code",
   "execution_count": 4,
   "id": "2133b6a0",
   "metadata": {},
   "outputs": [
    {
     "data": {
      "text/plain": [
       "6"
      ]
     },
     "execution_count": 4,
     "metadata": {},
     "output_type": "execute_result"
    }
   ],
   "source": [
    "# Comments in Python begin with # (hash) and are ignored by the interpreter\n",
    "2+4  # Addition"
   ]
  },
  {
   "cell_type": "code",
   "execution_count": 5,
   "id": "170f0efc",
   "metadata": {},
   "outputs": [
    {
     "data": {
      "text/plain": [
       "8"
      ]
     },
     "execution_count": 5,
     "metadata": {},
     "output_type": "execute_result"
    }
   ],
   "source": [
    "2*4  # Multiplication"
   ]
  },
  {
   "cell_type": "code",
   "execution_count": 6,
   "id": "285ee1d2",
   "metadata": {},
   "outputs": [
    {
     "data": {
      "text/plain": [
       "16"
      ]
     },
     "execution_count": 6,
     "metadata": {},
     "output_type": "execute_result"
    }
   ],
   "source": [
    "2**4  # 2 raised to power 4"
   ]
  },
  {
   "cell_type": "code",
   "execution_count": 7,
   "id": "f1497677",
   "metadata": {},
   "outputs": [
    {
     "data": {
      "text/plain": [
       "0.5"
      ]
     },
     "execution_count": 7,
     "metadata": {},
     "output_type": "execute_result"
    }
   ],
   "source": [
    "2/4  # 2 divided by 4"
   ]
  },
  {
   "cell_type": "code",
   "execution_count": 8,
   "id": "282aa00c",
   "metadata": {},
   "outputs": [],
   "source": [
    "# ---ON IDLE---\n",
    "fruit = ['mango', 'grape',   #List of fruits\n",
    "'apple']\n",
    "alphabet = ('a', 'b',       # Tuple of alphabet\n",
    "'c', 'd') \n",
    "opposites = {               # Dictionary of opposites      \n",
    "'tall': 'short',\n",
    "'fat': 'slim',\n",
    "    }"
   ]
  },
  {
   "cell_type": "code",
   "execution_count": 9,
   "id": "bc9d79f1",
   "metadata": {},
   "outputs": [
    {
     "name": "stdout",
     "output_type": "stream",
     "text": [
      "11\n"
     ]
    }
   ],
   "source": [
    "# ---ON IDLE---\n",
    "a=5;b=6;print(a+b)"
   ]
  },
  {
   "cell_type": "code",
   "execution_count": 11,
   "id": "ceb0deb5",
   "metadata": {},
   "outputs": [
    {
     "data": {
      "text/plain": [
       "['False',\n",
       " 'None',\n",
       " 'True',\n",
       " 'and',\n",
       " 'as',\n",
       " 'assert',\n",
       " 'async',\n",
       " 'await',\n",
       " 'break',\n",
       " 'class',\n",
       " 'continue',\n",
       " 'def',\n",
       " 'del',\n",
       " 'elif',\n",
       " 'else',\n",
       " 'except',\n",
       " 'finally',\n",
       " 'for',\n",
       " 'from',\n",
       " 'global',\n",
       " 'if',\n",
       " 'import',\n",
       " 'in',\n",
       " 'is',\n",
       " 'lambda',\n",
       " 'nonlocal',\n",
       " 'not',\n",
       " 'or',\n",
       " 'pass',\n",
       " 'raise',\n",
       " 'return',\n",
       " 'try',\n",
       " 'while',\n",
       " 'with',\n",
       " 'yield']"
      ]
     },
     "execution_count": 11,
     "metadata": {},
     "output_type": "execute_result"
    }
   ],
   "source": [
    " # ---ON IDLE---\n",
    "# To see list of all keywords, type the following two commands\n",
    "import keyword     # FIRST Command. Imports module keyword\n",
    "keyword.kwlist     # SECOND Command"
   ]
  },
  {
   "cell_type": "code",
   "execution_count": 12,
   "id": "4c7e4e99",
   "metadata": {},
   "outputs": [
    {
     "name": "stdout",
     "output_type": "stream",
     "text": [
      "2\n"
     ]
    }
   ],
   "source": [
    "# ---ON IDLE---  \n",
    "x = 2  # x \"points\" to 2\n",
    "y = x  # Now y also \"points\" to 2\n",
    "y = 3  # Now y \"points\" to 3\n",
    "print(x)"
   ]
  },
  {
   "cell_type": "code",
   "execution_count": 13,
   "id": "19658daf",
   "metadata": {},
   "outputs": [
    {
     "name": "stdout",
     "output_type": "stream",
     "text": [
      "3\n"
     ]
    }
   ],
   "source": [
    "print(y)"
   ]
  },
  {
   "cell_type": "code",
   "execution_count": 19,
   "id": "d4995689",
   "metadata": {},
   "outputs": [
    {
     "data": {
      "text/plain": [
       "str"
      ]
     },
     "execution_count": 19,
     "metadata": {},
     "output_type": "execute_result"
    }
   ],
   "source": [
    "# ---ON IDLE---  \n",
    "x = 'abc'\n",
    "type(x)    # type() function is used to get type of an object"
   ]
  },
  {
   "cell_type": "code",
   "execution_count": 20,
   "id": "b5b82426",
   "metadata": {},
   "outputs": [
    {
     "data": {
      "text/plain": [
       "int"
      ]
     },
     "execution_count": 20,
     "metadata": {},
     "output_type": "execute_result"
    }
   ],
   "source": [
    "x=5\n",
    "type(x)"
   ]
  },
  {
   "cell_type": "code",
   "execution_count": 21,
   "id": "4b51e4db",
   "metadata": {},
   "outputs": [
    {
     "data": {
      "text/plain": [
       "2592472845552"
      ]
     },
     "execution_count": 21,
     "metadata": {},
     "output_type": "execute_result"
    }
   ],
   "source": [
    "# ---ON IDLE---  \n",
    "myFloat = 78.11\n",
    "id(myFloat)"
   ]
  },
  {
   "cell_type": "code",
   "execution_count": 22,
   "id": "b41d36fd",
   "metadata": {},
   "outputs": [
    {
     "data": {
      "text/plain": [
       "78"
      ]
     },
     "execution_count": 22,
     "metadata": {},
     "output_type": "execute_result"
    }
   ],
   "source": [
    "myInt = int(myFloat)    # int() is a casting function \n",
    "myInt                    # myInt will now point to value 78"
   ]
  },
  {
   "cell_type": "code",
   "execution_count": 23,
   "id": "34f667a8",
   "metadata": {},
   "outputs": [
    {
     "data": {
      "text/plain": [
       "140712449055944"
      ]
     },
     "execution_count": 23,
     "metadata": {},
     "output_type": "execute_result"
    }
   ],
   "source": [
    "id(myInt)"
   ]
  },
  {
   "cell_type": "code",
   "execution_count": 24,
   "id": "e34e548f",
   "metadata": {},
   "outputs": [
    {
     "data": {
      "text/plain": [
       "140712449055944"
      ]
     },
     "execution_count": 24,
     "metadata": {},
     "output_type": "execute_result"
    }
   ],
   "source": [
    "id(78)                  # Note id(78) same as id(myInt)"
   ]
  },
  {
   "cell_type": "code",
   "execution_count": null,
   "id": "7f245635",
   "metadata": {},
   "outputs": [],
   "source": []
  }
 ],
 "metadata": {
  "kernelspec": {
   "display_name": "Python 3 (ipykernel)",
   "language": "python",
   "name": "python3"
  },
  "language_info": {
   "codemirror_mode": {
    "name": "ipython",
    "version": 3
   },
   "file_extension": ".py",
   "mimetype": "text/x-python",
   "name": "python",
   "nbconvert_exporter": "python",
   "pygments_lexer": "ipython3",
   "version": "3.11.5"
  }
 },
 "nbformat": 4,
 "nbformat_minor": 5
}
