{
 "cells": [
  {
   "cell_type": "code",
   "execution_count": 1,
   "id": "0be01ea4",
   "metadata": {},
   "outputs": [
    {
     "name": "stdout",
     "output_type": "stream",
     "text": [
      "Enter user name: Abdullah \n",
      "Enter user age: 35\n",
      "Enter user email: abdullah@domain.com\n",
      "Enter user phonenumber: 8863256724\n",
      "Enter user address: Bangalore,karnataka,india\n",
      "Enter user profession: software developer \n",
      "User Paragraph:\n",
      "\n",
      "Name: Abdullah \n",
      "Age: 35\n",
      "Email: abdullah@domain.com\n",
      "PhoneNumber: 8863256724\n",
      "address: Bangalore,karnataka,india\n",
      "Profession: software developer \n"
     ]
    }
   ],
   "source": [
    "# Enter user information\n",
    "user_name         = input(\"Enter user name: \")\n",
    "user_age          = input(\"Enter user age: \")\n",
    "user_email        = input(\"Enter user email: \")\n",
    "user_phonenumber = input(\"Enter user phonenumber: \")\n",
    "user_address      = input(\"Enter user address: \")\n",
    "user_profession   = input(\"Enter user profession: \")\n",
    "\n",
    "# input User information  \n",
    "paragraph = f\"User Paragraph:\\n\\nName: {user_name}\\nAge: {user_age}\\nEmail: {user_email}\\nPhoneNumber: {user_phonenumber}\\naddress: {user_address}\\nProfession: {user_profession}\"\n",
    "\n",
    "# Print information\n",
    "print(paragraph)"
   ]
  },
  {
   "cell_type": "code",
   "execution_count": null,
   "id": "4a76183b",
   "metadata": {},
   "outputs": [],
   "source": []
  }
 ],
 "metadata": {
  "kernelspec": {
   "display_name": "Python 3 (ipykernel)",
   "language": "python",
   "name": "python3"
  },
  "language_info": {
   "codemirror_mode": {
    "name": "ipython",
    "version": 3
   },
   "file_extension": ".py",
   "mimetype": "text/x-python",
   "name": "python",
   "nbconvert_exporter": "python",
   "pygments_lexer": "ipython3",
   "version": "3.11.5"
  }
 },
 "nbformat": 4,
 "nbformat_minor": 5
}
