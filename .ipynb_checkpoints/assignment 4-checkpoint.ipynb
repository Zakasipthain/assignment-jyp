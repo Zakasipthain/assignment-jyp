{
 "cells": [
  {
   "cell_type": "code",
   "execution_count": 2,
   "id": "3a0c88d5",
   "metadata": {},
   "outputs": [
    {
     "data": {
      "text/plain": [
       "16"
      ]
     },
     "execution_count": 2,
     "metadata": {},
     "output_type": "execute_result"
    }
   ],
   "source": [
    "# reverse data from above str2\n",
    "str2='data is new fuel' \n",
    "len(str2)"
   ]
  },
  {
   "cell_type": "code",
   "execution_count": 11,
   "id": "30a25910",
   "metadata": {},
   "outputs": [
    {
     "data": {
      "text/plain": [
       "' atad'"
      ]
     },
     "execution_count": 11,
     "metadata": {},
     "output_type": "execute_result"
    }
   ],
   "source": [
    "str2[-12:-17:-1]"
   ]
  },
  {
   "cell_type": "code",
   "execution_count": 15,
   "id": "dfe81788",
   "metadata": {},
   "outputs": [
    {
     "data": {
      "text/plain": [
       "'wen'"
      ]
     },
     "execution_count": 15,
     "metadata": {},
     "output_type": "execute_result"
    }
   ],
   "source": [
    "str2[-6:-9:-1]"
   ]
  },
  {
   "cell_type": "code",
   "execution_count": 24,
   "id": "0f8783d2",
   "metadata": {},
   "outputs": [],
   "source": [
    "str1='HELLO PYTHON'"
   ]
  },
  {
   "cell_type": "code",
   "execution_count": 25,
   "id": "51e6ca36",
   "metadata": {},
   "outputs": [
    {
     "ename": "TypeError",
     "evalue": "'str' object does not support item assignment",
     "output_type": "error",
     "traceback": [
      "\u001b[1;31m---------------------------------------------------------------------------\u001b[0m",
      "\u001b[1;31mTypeError\u001b[0m                                 Traceback (most recent call last)",
      "Cell \u001b[1;32mIn[25], line 1\u001b[0m\n\u001b[1;32m----> 1\u001b[0m str1[\u001b[38;5;241m0\u001b[39m:\u001b[38;5;241m2\u001b[39m]\u001b[38;5;241m=\u001b[39m\u001b[38;5;124m'\u001b[39m\u001b[38;5;124mHi\u001b[39m\u001b[38;5;124m'\u001b[39m\n",
      "\u001b[1;31mTypeError\u001b[0m: 'str' object does not support item assignment"
     ]
    }
   ],
   "source": [
    "str1[0:2]='Hi'"
   ]
  },
  {
   "cell_type": "code",
   "execution_count": 26,
   "id": "a380e5a7",
   "metadata": {},
   "outputs": [],
   "source": [
    "str2 = str1.replace ('HE','HI')\n",
    "# string.replace('chara to replace','by what value'\n",
    "# the characters should be replaced)"
   ]
  },
  {
   "cell_type": "code",
   "execution_count": 27,
   "id": "01f96e31",
   "metadata": {},
   "outputs": [
    {
     "data": {
      "text/plain": [
       "'HILLO PYTHON'"
      ]
     },
     "execution_count": 27,
     "metadata": {},
     "output_type": "execute_result"
    }
   ],
   "source": [
    "str2"
   ]
  },
  {
   "cell_type": "code",
   "execution_count": 28,
   "id": "33293aaa",
   "metadata": {},
   "outputs": [],
   "source": [
    "str2=str1.replace(' ','*')"
   ]
  },
  {
   "cell_type": "code",
   "execution_count": 29,
   "id": "16e4ba56",
   "metadata": {},
   "outputs": [
    {
     "data": {
      "text/plain": [
       "'HELLO*PYTHON'"
      ]
     },
     "execution_count": 29,
     "metadata": {},
     "output_type": "execute_result"
    }
   ],
   "source": [
    "str2"
   ]
  },
  {
   "cell_type": "code",
   "execution_count": 22,
   "id": "3d4f0a42",
   "metadata": {},
   "outputs": [],
   "source": [
    "del str1 # delete a string"
   ]
  },
  {
   "cell_type": "code",
   "execution_count": 23,
   "id": "8b2efe62",
   "metadata": {},
   "outputs": [
    {
     "ename": "NameError",
     "evalue": "name 'str1' is not defined",
     "output_type": "error",
     "traceback": [
      "\u001b[1;31m---------------------------------------------------------------------------\u001b[0m",
      "\u001b[1;31mNameError\u001b[0m                                 Traceback (most recent call last)",
      "Cell \u001b[1;32mIn[23], line 1\u001b[0m\n\u001b[1;32m----> 1\u001b[0m str1\n",
      "\u001b[1;31mNameError\u001b[0m: name 'str1' is not defined"
     ]
    }
   ],
   "source": [
    "str1"
   ]
  },
  {
   "cell_type": "code",
   "execution_count": 30,
   "id": "c37b4261",
   "metadata": {},
   "outputs": [
    {
     "data": {
      "text/plain": [
       "'HELLO PYTHON'"
      ]
     },
     "execution_count": 30,
     "metadata": {},
     "output_type": "execute_result"
    }
   ],
   "source": [
    "str1"
   ]
  },
  {
   "cell_type": "markdown",
   "id": "5817a141",
   "metadata": {},
   "source": [
    "### STRING CONCATENATION"
   ]
  },
  {
   "cell_type": "code",
   "execution_count": 33,
   "id": "968f2f27",
   "metadata": {},
   "outputs": [],
   "source": [
    "# STRING CONCATENATION\n",
    "s1='data'\n",
    "s2='science'\n",
    "s3=s1 + s2"
   ]
  },
  {
   "cell_type": "code",
   "execution_count": 34,
   "id": "88fb3153",
   "metadata": {},
   "outputs": [
    {
     "data": {
      "text/plain": [
       "'datascience'"
      ]
     },
     "execution_count": 34,
     "metadata": {},
     "output_type": "execute_result"
    }
   ],
   "source": [
    "s3"
   ]
  },
  {
   "cell_type": "code",
   "execution_count": 35,
   "id": "37db9b80",
   "metadata": {},
   "outputs": [],
   "source": [
    "s1=\"data\"\n",
    "s2=\"science\"\n",
    "s3=s1+\" \"+s2"
   ]
  },
  {
   "cell_type": "code",
   "execution_count": 36,
   "id": "d9dea28e",
   "metadata": {},
   "outputs": [
    {
     "data": {
      "text/plain": [
       "'data science'"
      ]
     },
     "execution_count": 36,
     "metadata": {},
     "output_type": "execute_result"
    }
   ],
   "source": [
    "s3"
   ]
  },
  {
   "cell_type": "markdown",
   "id": "7b3d396f",
   "metadata": {},
   "source": [
    "## string membership"
   ]
  },
  {
   "cell_type": "code",
   "execution_count": 37,
   "id": "799d3880",
   "metadata": {},
   "outputs": [],
   "source": [
    "# string membership \n",
    "mystr1=\"Hello Python\""
   ]
  },
  {
   "cell_type": "code",
   "execution_count": 38,
   "id": "5962baca",
   "metadata": {},
   "outputs": [
    {
     "data": {
      "text/plain": [
       "True"
      ]
     },
     "execution_count": 38,
     "metadata": {},
     "output_type": "execute_result"
    }
   ],
   "source": [
    "'Hello' in mystr1 # check whether \n",
    "#substring 'hello' is present in given string"
   ]
  },
  {
   "cell_type": "code",
   "execution_count": 39,
   "id": "466e268d",
   "metadata": {},
   "outputs": [
    {
     "name": "stdout",
     "output_type": "stream",
     "text": [
      "Enter stringsHi 2 All\n"
     ]
    },
    {
     "data": {
      "text/plain": [
       "'Hi 2 All'"
      ]
     },
     "execution_count": 39,
     "metadata": {},
     "output_type": "execute_result"
    }
   ],
   "source": [
    "# task: find numbers in a string by taking strings from user\n",
    "str3=input(\"Enter strings\")\n",
    "str3"
   ]
  },
  {
   "cell_type": "code",
   "execution_count": 40,
   "id": "8a6d479a",
   "metadata": {},
   "outputs": [
    {
     "name": "stdout",
     "output_type": "stream",
     "text": [
      "Enter Stringhi 2 all\n"
     ]
    },
    {
     "data": {
      "text/plain": [
       "True"
      ]
     },
     "execution_count": 40,
     "metadata": {},
     "output_type": "execute_result"
    }
   ],
   "source": [
    "str3=input(\"Enter String\")\n",
    "'2' in str3 "
   ]
  },
  {
   "cell_type": "markdown",
   "id": "5b11e8d0",
   "metadata": {},
   "source": [
    "### String Function "
   ]
  },
  {
   "cell_type": "markdown",
   "id": "dc9e541e",
   "metadata": {},
   "source": [
    "string partioning"
   ]
  },
  {
   "cell_type": "code",
   "execution_count": 41,
   "id": "c91eff6b",
   "metadata": {},
   "outputs": [
    {
     "data": {
      "text/plain": [
       "('Natural Language processing ', 'with', ' python and R and Java')"
      ]
     },
     "execution_count": 41,
     "metadata": {},
     "output_type": "execute_result"
    }
   ],
   "source": [
    "str5= \"Natural Language processing with python and R and Java\"\n",
    "L=str5.partition(\"with\") # returns tuple\n",
    "L"
   ]
  },
  {
   "cell_type": "code",
   "execution_count": 42,
   "id": "10d21fca",
   "metadata": {},
   "outputs": [],
   "source": [
    "L=str5.partition(\" \")"
   ]
  },
  {
   "cell_type": "code",
   "execution_count": 43,
   "id": "289e2623",
   "metadata": {},
   "outputs": [
    {
     "data": {
      "text/plain": [
       "('Natural', ' ', 'Language processing with python and R and Java')"
      ]
     },
     "execution_count": 43,
     "metadata": {},
     "output_type": "execute_result"
    }
   ],
   "source": [
    "L"
   ]
  },
  {
   "cell_type": "code",
   "execution_count": 44,
   "id": "e6632346",
   "metadata": {},
   "outputs": [
    {
     "data": {
      "text/plain": [
       "' Hello Everyone '"
      ]
     },
     "execution_count": 44,
     "metadata": {},
     "output_type": "execute_result"
    }
   ],
   "source": [
    "mystr2=\" Hello Everyone \"\n",
    "mystr2"
   ]
  },
  {
   "cell_type": "code",
   "execution_count": 45,
   "id": "725f7d7c",
   "metadata": {},
   "outputs": [
    {
     "data": {
      "text/plain": [
       "3"
      ]
     },
     "execution_count": 45,
     "metadata": {},
     "output_type": "execute_result"
    }
   ],
   "source": [
    "# count \n",
    "mystr2.count('e') # count the number of occurance of given substring"
   ]
  },
  {
   "cell_type": "code",
   "execution_count": 46,
   "id": "7c21c16e",
   "metadata": {},
   "outputs": [
    {
     "data": {
      "text/plain": [
       "' Hello Everyone '"
      ]
     },
     "execution_count": 46,
     "metadata": {},
     "output_type": "execute_result"
    }
   ],
   "source": [
    "mystr2"
   ]
  },
  {
   "cell_type": "code",
   "execution_count": 47,
   "id": "52517c0b",
   "metadata": {},
   "outputs": [
    {
     "data": {
      "text/plain": [
       "'llo Everyon'"
      ]
     },
     "execution_count": 47,
     "metadata": {},
     "output_type": "execute_result"
    }
   ],
   "source": [
    "# strip \n",
    "mystr2.strip(' He') # remove the input temporarily "
   ]
  },
  {
   "cell_type": "code",
   "execution_count": 50,
   "id": "a2f583cd",
   "metadata": {},
   "outputs": [
    {
     "data": {
      "text/plain": [
       "' Hello Everyone'"
      ]
     },
     "execution_count": 50,
     "metadata": {},
     "output_type": "execute_result"
    }
   ],
   "source": [
    "mystr2.rstrip() # remove all whitespace at the end of the string"
   ]
  },
  {
   "cell_type": "code",
   "execution_count": 49,
   "id": "2dd72223",
   "metadata": {},
   "outputs": [
    {
     "data": {
      "text/plain": [
       "'Hello Everyone '"
      ]
     },
     "execution_count": 49,
     "metadata": {},
     "output_type": "execute_result"
    }
   ],
   "source": [
    "mystr2.lstrip() # remove all whitespace at the beging of the string "
   ]
  },
  {
   "cell_type": "code",
   "execution_count": 51,
   "id": "d81abe80",
   "metadata": {},
   "outputs": [],
   "source": [
    "mystr2='Hello Python'"
   ]
  },
  {
   "cell_type": "code",
   "execution_count": 52,
   "id": "a890cdb3",
   "metadata": {},
   "outputs": [],
   "source": [
    "mystr2= mystr2.lower()"
   ]
  },
  {
   "cell_type": "code",
   "execution_count": 53,
   "id": "a9f23268",
   "metadata": {},
   "outputs": [
    {
     "data": {
      "text/plain": [
       "'hello python'"
      ]
     },
     "execution_count": 53,
     "metadata": {},
     "output_type": "execute_result"
    }
   ],
   "source": [
    "mystr2"
   ]
  },
  {
   "cell_type": "code",
   "execution_count": 56,
   "id": "7669aabb",
   "metadata": {},
   "outputs": [],
   "source": [
    "mystr2= mystr2.upper()"
   ]
  },
  {
   "cell_type": "code",
   "execution_count": 57,
   "id": "badb2d9d",
   "metadata": {},
   "outputs": [
    {
     "data": {
      "text/plain": [
       "'HELLO PYTHON'"
      ]
     },
     "execution_count": 57,
     "metadata": {},
     "output_type": "execute_result"
    }
   ],
   "source": [
    "mystr2"
   ]
  },
  {
   "cell_type": "code",
   "execution_count": 60,
   "id": "f209afcf",
   "metadata": {},
   "outputs": [
    {
     "data": {
      "text/plain": [
       "'HELLO PYTHON'"
      ]
     },
     "execution_count": 60,
     "metadata": {},
     "output_type": "execute_result"
    }
   ],
   "source": [
    "mystr2"
   ]
  },
  {
   "cell_type": "code",
   "execution_count": 61,
   "id": "9b82d86b",
   "metadata": {},
   "outputs": [
    {
     "data": {
      "text/plain": [
       "True"
      ]
     },
     "execution_count": 61,
     "metadata": {},
     "output_type": "execute_result"
    }
   ],
   "source": [
    "mystr2.startswith(\"HE\")\n",
    "# return boolean value true if string starts with \"He\""
   ]
  },
  {
   "cell_type": "code",
   "execution_count": 62,
   "id": "a57852ff",
   "metadata": {},
   "outputs": [
    {
     "data": {
      "text/plain": [
       "False"
      ]
     },
     "execution_count": 62,
     "metadata": {},
     "output_type": "execute_result"
    }
   ],
   "source": [
    "mystr2.startswith(\"He\")\n",
    "# return boolean value true if string starts with \"He\""
   ]
  },
  {
   "cell_type": "code",
   "execution_count": 63,
   "id": "cd0a6d38",
   "metadata": {},
   "outputs": [
    {
     "data": {
      "text/plain": [
       "False"
      ]
     },
     "execution_count": 63,
     "metadata": {},
     "output_type": "execute_result"
    }
   ],
   "source": [
    "mystr2.endswith(\"thon\")\n",
    "# return boolean value true if string Ends with \"thon\""
   ]
  },
  {
   "cell_type": "code",
   "execution_count": 64,
   "id": "78d93058",
   "metadata": {},
   "outputs": [
    {
     "data": {
      "text/plain": [
       "True"
      ]
     },
     "execution_count": 64,
     "metadata": {},
     "output_type": "execute_result"
    }
   ],
   "source": [
    "mystr2.endswith(\"THON\")\n",
    "# return boolean value true if string Ends with \"thon\""
   ]
  },
  {
   "cell_type": "code",
   "execution_count": 65,
   "id": "5cff870e",
   "metadata": {},
   "outputs": [],
   "source": [
    "mystr4='one two three four one two two three five five six seven six seven one oneone ten eight ten nine eleven ten ten nine'\n"
   ]
  },
  {
   "cell_type": "code",
   "execution_count": 66,
   "id": "3b2cd4b3",
   "metadata": {},
   "outputs": [
    {
     "data": {
      "text/plain": [
       "'one two three four one two two three five five six seven six seven one oneone ten eight ten nine eleven ten ten nine'"
      ]
     },
     "execution_count": 66,
     "metadata": {},
     "output_type": "execute_result"
    }
   ],
   "source": [
    "mystr4"
   ]
  },
  {
   "cell_type": "code",
   "execution_count": 67,
   "id": "45f71f11",
   "metadata": {},
   "outputs": [
    {
     "name": "stdout",
     "output_type": "stream",
     "text": [
      "['one', 'two', 'three', 'four', 'one', 'two', 'two', 'three', 'five', 'five', 'six', 'seven', 'six', 'seven', 'one', 'oneone', 'ten', 'eight', 'ten', 'nine', 'eleven', 'ten', 'ten', 'nine']\n"
     ]
    }
   ],
   "source": [
    "# split () - returns a list as output \n",
    "# \n",
    "print(mystr4.split())\n",
    "# List1=mystr4.split()"
   ]
  },
  {
   "cell_type": "code",
   "execution_count": 68,
   "id": "4bb63796",
   "metadata": {},
   "outputs": [
    {
     "name": "stdout",
     "output_type": "stream",
     "text": [
      "['', ' two three four ', ' two two three five five six seven six seven ', ' ', '', ' ten eight ten nine eleven ten ten nine']\n"
     ]
    }
   ],
   "source": [
    "print(mystr4.split('one'))"
   ]
  },
  {
   "cell_type": "code",
   "execution_count": 69,
   "id": "7b28eba0",
   "metadata": {},
   "outputs": [
    {
     "name": "stdout",
     "output_type": "stream",
     "text": [
      "['one ', ' three four one ', ' ', ' three five five six seven six seven one oneone ten eight ten nine eleven ten ten nine']\n"
     ]
    }
   ],
   "source": [
    "print(mystr4.split('two'))"
   ]
  },
  {
   "cell_type": "code",
   "execution_count": 70,
   "id": "0796c974",
   "metadata": {},
   "outputs": [
    {
     "name": "stdout",
     "output_type": "stream",
     "text": [
      "the value of a & b is 5 7\n"
     ]
    }
   ],
   "source": [
    "a = 5 \n",
    "b = 7\n",
    "print(\"the value of a & b is\",a,b)"
   ]
  },
  {
   "cell_type": "code",
   "execution_count": 71,
   "id": "df0e05a6",
   "metadata": {},
   "outputs": [
    {
     "name": "stdout",
     "output_type": "stream",
     "text": [
      "the value of a is 5 & b is () this is my output\n"
     ]
    }
   ],
   "source": [
    "\n",
    "print(\"the value of a is {} & b is () this is my output\".format(a,b))"
   ]
  },
  {
   "cell_type": "code",
   "execution_count": 72,
   "id": "75c7cdf3",
   "metadata": {},
   "outputs": [
    {
     "name": "stdout",
     "output_type": "stream",
     "text": [
      "the value of a & b is 5 7\n"
     ]
    }
   ],
   "source": [
    "a = 5 \n",
    "b = 7\n",
    "sum=a+b\n",
    "print(\"the value of a & b is\",a,b)"
   ]
  },
  {
   "cell_type": "code",
   "execution_count": 75,
   "id": "d43f77d6",
   "metadata": {},
   "outputs": [
    {
     "name": "stdout",
     "output_type": "stream",
     "text": [
      "the sum of a is 5 & b is 7 this is my sum 12\n"
     ]
    }
   ],
   "source": [
    "print(\"the sum of a is {} & b is {} this is my sum {}\".format(a,b,sum))"
   ]
  },
  {
   "cell_type": "code",
   "execution_count": 81,
   "id": "24dcb6e8",
   "metadata": {},
   "outputs": [
    {
     "name": "stdout",
     "output_type": "stream",
     "text": [
      "cost of em1 ,em3 ,em2 are 40 , 77 , 55 \n"
     ]
    }
   ],
   "source": [
    "# combing string & numbers using  format method \n",
    "em1=40\n",
    "em2=55\n",
    "em3=77\n",
    "print('cost of em1 ,em3 ,em2 are {} , {} , {} '.format(em1,em3,em2))"
   ]
  },
  {
   "cell_type": "code",
   "execution_count": null,
   "id": "e4d3e9f7",
   "metadata": {},
   "outputs": [],
   "source": []
  }
 ],
 "metadata": {
  "kernelspec": {
   "display_name": "Python 3 (ipykernel)",
   "language": "python",
   "name": "python3"
  },
  "language_info": {
   "codemirror_mode": {
    "name": "ipython",
    "version": 3
   },
   "file_extension": ".py",
   "mimetype": "text/x-python",
   "name": "python",
   "nbconvert_exporter": "python",
   "pygments_lexer": "ipython3",
   "version": "3.11.5"
  }
 },
 "nbformat": 4,
 "nbformat_minor": 5
}
