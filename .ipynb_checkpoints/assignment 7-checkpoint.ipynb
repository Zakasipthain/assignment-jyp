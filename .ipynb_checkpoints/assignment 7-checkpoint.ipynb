{
 "cells": [
  {
   "cell_type": "code",
   "execution_count": 3,
   "id": "f5e82b3a",
   "metadata": {},
   "outputs": [
    {
     "name": "stdout",
     "output_type": "stream",
     "text": [
      "Enter a number: 5\n",
      "5 is a prime number.\n"
     ]
    }
   ],
   "source": [
    "# Python Program to Check Prime Number\n",
    "def is_prime(num):\n",
    "    if num <= 1:\n",
    "        return False\n",
    "    if num <= 3:\n",
    "        return True\n",
    "\n",
    "    if num % 2 == 0 or num % 3 == 0:\n",
    "        return False\n",
    "\n",
    "    i = 5\n",
    "    while i * i <= num:\n",
    "        if num % i == 0 or num % (i + 2) == 0:\n",
    "            return False\n",
    "        i += 6\n",
    "\n",
    "    return True\n",
    "\n",
    "# result \n",
    "num = int(input(\"Enter a number: \"))\n",
    "if is_prime(num):\n",
    "    print(num, \"is a prime number.\")\n",
    "else:\n",
    "    print(num, \"is not a prime number.\")"
   ]
  },
  {
   "cell_type": "code",
   "execution_count": 5,
   "id": "a00dce57",
   "metadata": {},
   "outputs": [
    {
     "name": "stdout",
     "output_type": "stream",
     "text": [
      "2 3 5 7 11 13 17 19 23 29 31 37 41 43 47 53 59 61 67 71 73 79 83 89 97 "
     ]
    }
   ],
   "source": [
    "# Python Program to Print all Prime Numbers between 1 to 100\n",
    "def is_prime(num):\n",
    "    if num <= 1:\n",
    "        return False\n",
    "    if num <= 3:\n",
    "        return True\n",
    "\n",
    "    if num % 2 == 0 or num % 3 == 0:\n",
    "        return False\n",
    "\n",
    "    i = 5\n",
    "    while i * i <= num:\n",
    "        if num % i == 0 or num % (i + 2) == 0:\n",
    "            return False\n",
    "        i += 6\n",
    "\n",
    "    return True\n",
    "\n",
    "# Print prime numbers between 1 and 100\n",
    "for num in range(1, 101):\n",
    "    if is_prime(num):\n",
    "        print(num,end=\" \")"
   ]
  },
  {
   "cell_type": "code",
   "execution_count": 7,
   "id": "f7f359c0",
   "metadata": {},
   "outputs": [
    {
     "name": "stdout",
     "output_type": "stream",
     "text": [
      "Enter a number: 7\n",
      "The factorial of 7 is 5040\n"
     ]
    }
   ],
   "source": [
    "# Python Program to Find the Factorial of a Number\n",
    "def factorial(n):\n",
    "    if n < 0:\n",
    "        return \"Factorial is not defined for negative numbers.\"\n",
    "    elif n == 0:\n",
    "        return 1\n",
    "    else:\n",
    "        result = 1\n",
    "        for i in range(1, n + 1):\n",
    "            result *= i\n",
    "        return result\n",
    "\n",
    "# Input from the user\n",
    "num = int(input(\"Enter a number: \"))\n",
    "\n",
    "# Calculate and print the factorial\n",
    "fact = factorial(num)\n",
    "print(f\"The factorial of {num} is {fact}\")"
   ]
  },
  {
   "cell_type": "code",
   "execution_count": null,
   "id": "5c073c85",
   "metadata": {},
   "outputs": [],
   "source": []
  }
 ],
 "metadata": {
  "kernelspec": {
   "display_name": "Python 3 (ipykernel)",
   "language": "python",
   "name": "python3"
  },
  "language_info": {
   "codemirror_mode": {
    "name": "ipython",
    "version": 3
   },
   "file_extension": ".py",
   "mimetype": "text/x-python",
   "name": "python",
   "nbconvert_exporter": "python",
   "pygments_lexer": "ipython3",
   "version": "3.11.5"
  }
 },
 "nbformat": 4,
 "nbformat_minor": 5
}
