{
 "cells": [
  {
   "cell_type": "code",
   "execution_count": 2,
   "id": "cf558cb8",
   "metadata": {},
   "outputs": [
    {
     "data": {
      "text/plain": [
       "16"
      ]
     },
     "execution_count": 2,
     "metadata": {},
     "output_type": "execute_result"
    }
   ],
   "source": [
    "# reverse data from above str2\n",
    "str2='data is new fuel' \n",
    "len(str2)"
   ]
  },
  {
   "cell_type": "code",
   "execution_count": 11,
   "id": "943961d1",
   "metadata": {},
   "outputs": [
    {
     "data": {
      "text/plain": [
       "' atad'"
      ]
     },
     "execution_count": 11,
     "metadata": {},
     "output_type": "execute_result"
    }
   ],
   "source": [
    "str2[-12:-17:-1]"
   ]
  },
  {
   "cell_type": "code",
   "execution_count": 15,
   "id": "c0abb3e3",
   "metadata": {},
   "outputs": [
    {
     "data": {
      "text/plain": [
       "'wen'"
      ]
     },
     "execution_count": 15,
     "metadata": {},
     "output_type": "execute_result"
    }
   ],
   "source": [
    "str2[-6:-9:-1]"
   ]
  },
  {
   "cell_type": "code",
   "execution_count": 24,
   "id": "ced2698e",
   "metadata": {},
   "outputs": [],
   "source": [
    "str1='HELLO PYTHON'"
   ]
  },
  {
   "cell_type": "code",
   "execution_count": 25,
   "id": "26afeab7",
   "metadata": {},
   "outputs": [
    {
     "ename": "TypeError",
     "evalue": "'str' object does not support item assignment",
     "output_type": "error",
     "traceback": [
      "\u001b[1;31m---------------------------------------------------------------------------\u001b[0m",
      "\u001b[1;31mTypeError\u001b[0m                                 Traceback (most recent call last)",
      "Cell \u001b[1;32mIn[25], line 1\u001b[0m\n\u001b[1;32m----> 1\u001b[0m str1[\u001b[38;5;241m0\u001b[39m:\u001b[38;5;241m2\u001b[39m]\u001b[38;5;241m=\u001b[39m\u001b[38;5;124m'\u001b[39m\u001b[38;5;124mHi\u001b[39m\u001b[38;5;124m'\u001b[39m\n",
      "\u001b[1;31mTypeError\u001b[0m: 'str' object does not support item assignment"
     ]
    }
   ],
   "source": [
    "str1[0:2]='Hi'"
   ]
  },
  {
   "cell_type": "code",
   "execution_count": 26,
   "id": "b1789443",
   "metadata": {},
   "outputs": [],
   "source": [
    "str2 = str1.replace ('HE','HI')\n",
    "# string.replace('chara to replace','by what value'\n",
    "# the characters should be replaced)"
   ]
  },
  {
   "cell_type": "code",
   "execution_count": 27,
   "id": "cb6c5586",
   "metadata": {},
   "outputs": [
    {
     "data": {
      "text/plain": [
       "'HILLO PYTHON'"
      ]
     },
     "execution_count": 27,
     "metadata": {},
     "output_type": "execute_result"
    }
   ],
   "source": [
    "str2"
   ]
  },
  {
   "cell_type": "code",
   "execution_count": 28,
   "id": "782c8fb4",
   "metadata": {},
   "outputs": [],
   "source": [
    "str2=str1.replace(' ','*')"
   ]
  },
  {
   "cell_type": "code",
   "execution_count": 29,
   "id": "7a528638",
   "metadata": {},
   "outputs": [
    {
     "data": {
      "text/plain": [
       "'HELLO*PYTHON'"
      ]
     },
     "execution_count": 29,
     "metadata": {},
     "output_type": "execute_result"
    }
   ],
   "source": [
    "str2"
   ]
  },
  {
   "cell_type": "code",
   "execution_count": 22,
   "id": "39341b76",
   "metadata": {},
   "outputs": [],
   "source": [
    "del str1 # delete a string"
   ]
  },
  {
   "cell_type": "code",
   "execution_count": 23,
   "id": "4aa7875a",
   "metadata": {},
   "outputs": [
    {
     "ename": "NameError",
     "evalue": "name 'str1' is not defined",
     "output_type": "error",
     "traceback": [
      "\u001b[1;31m---------------------------------------------------------------------------\u001b[0m",
      "\u001b[1;31mNameError\u001b[0m                                 Traceback (most recent call last)",
      "Cell \u001b[1;32mIn[23], line 1\u001b[0m\n\u001b[1;32m----> 1\u001b[0m str1\n",
      "\u001b[1;31mNameError\u001b[0m: name 'str1' is not defined"
     ]
    }
   ],
   "source": [
    "str1"
   ]
  },
  {
   "cell_type": "code",
   "execution_count": 30,
   "id": "b427c89d",
   "metadata": {},
   "outputs": [
    {
     "data": {
      "text/plain": [
       "'HELLO PYTHON'"
      ]
     },
     "execution_count": 30,
     "metadata": {},
     "output_type": "execute_result"
    }
   ],
   "source": [
    "str1"
   ]
  },
  {
   "cell_type": "markdown",
   "id": "f7f65527",
   "metadata": {},
   "source": [
    "### STRING CONCATENATION"
   ]
  },
  {
   "cell_type": "code",
   "execution_count": 33,
   "id": "474ef9ca",
   "metadata": {},
   "outputs": [],
   "source": [
    "# STRING CONCATENATION\n",
    "s1='data'\n",
    "s2='science'\n",
    "s3=s1 + s2"
   ]
  },
  {
   "cell_type": "code",
   "execution_count": 34,
   "id": "00e039a7",
   "metadata": {},
   "outputs": [
    {
     "data": {
      "text/plain": [
       "'datascience'"
      ]
     },
     "execution_count": 34,
     "metadata": {},
     "output_type": "execute_result"
    }
   ],
   "source": [
    "s3"
   ]
  },
  {
   "cell_type": "code",
   "execution_count": 35,
   "id": "7e8781b3",
   "metadata": {},
   "outputs": [],
   "source": [
    "s1=\"data\"\n",
    "s2=\"science\"\n",
    "s3=s1+\" \"+s2"
   ]
  },
  {
   "cell_type": "code",
   "execution_count": 36,
   "id": "ca8fb676",
   "metadata": {},
   "outputs": [
    {
     "data": {
      "text/plain": [
       "'data science'"
      ]
     },
     "execution_count": 36,
     "metadata": {},
     "output_type": "execute_result"
    }
   ],
   "source": [
    "s3"
   ]
  },
  {
   "cell_type": "markdown",
   "id": "98bb4958",
   "metadata": {},
   "source": [
    "## string membership"
   ]
  },
  {
   "cell_type": "code",
   "execution_count": 37,
   "id": "46042287",
   "metadata": {},
   "outputs": [],
   "source": [
    "# string membership \n",
    "mystr1=\"Hello Python\""
   ]
  },
  {
   "cell_type": "code",
   "execution_count": 38,
   "id": "40a459a3",
   "metadata": {},
   "outputs": [
    {
     "data": {
      "text/plain": [
       "True"
      ]
     },
     "execution_count": 38,
     "metadata": {},
     "output_type": "execute_result"
    }
   ],
   "source": [
    "'Hello' in mystr1 # check whether \n",
    "#substring 'hello' is present in given string"
   ]
  },
  {
   "cell_type": "code",
   "execution_count": 39,
   "id": "8758b008",
   "metadata": {},
   "outputs": [
    {
     "name": "stdout",
     "output_type": "stream",
     "text": [
      "Enter stringsHi 2 All\n"
     ]
    },
    {
     "data": {
      "text/plain": [
       "'Hi 2 All'"
      ]
     },
     "execution_count": 39,
     "metadata": {},
     "output_type": "execute_result"
    }
   ],
   "source": [
    "# task: find numbers in a string by taking strings from user\n",
    "str3=input(\"Enter strings\")\n",
    "str3"
   ]
  },
  {
   "cell_type": "code",
   "execution_count": 40,
   "id": "7504ce81",
   "metadata": {},
   "outputs": [
    {
     "name": "stdout",
     "output_type": "stream",
     "text": [
      "Enter Stringhi 2 all\n"
     ]
    },
    {
     "data": {
      "text/plain": [
       "True"
      ]
     },
     "execution_count": 40,
     "metadata": {},
     "output_type": "execute_result"
    }
   ],
   "source": [
    "str3=input(\"Enter String\")\n",
    "'2' in str3 "
   ]
  },
  {
   "cell_type": "markdown",
   "id": "8dcbf3be",
   "metadata": {},
   "source": [
    "### String Function "
   ]
  },
  {
   "cell_type": "markdown",
   "id": "a77239e5",
   "metadata": {},
   "source": [
    "string partioning"
   ]
  },
  {
   "cell_type": "code",
   "execution_count": 41,
   "id": "ac30783c",
   "metadata": {},
   "outputs": [
    {
     "data": {
      "text/plain": [
       "('Natural Language processing ', 'with', ' python and R and Java')"
      ]
     },
     "execution_count": 41,
     "metadata": {},
     "output_type": "execute_result"
    }
   ],
   "source": [
    "str5= \"Natural Language processing with python and R and Java\"\n",
    "L=str5.partition(\"with\") # returns tuple\n",
    "L"
   ]
  },
  {
   "cell_type": "code",
   "execution_count": 42,
   "id": "9c945a1e",
   "metadata": {},
   "outputs": [],
   "source": [
    "L=str5.partition(\" \")"
   ]
  },
  {
   "cell_type": "code",
   "execution_count": 43,
   "id": "8c9ec2fb",
   "metadata": {},
   "outputs": [
    {
     "data": {
      "text/plain": [
       "('Natural', ' ', 'Language processing with python and R and Java')"
      ]
     },
     "execution_count": 43,
     "metadata": {},
     "output_type": "execute_result"
    }
   ],
   "source": [
    "L"
   ]
  },
  {
   "cell_type": "code",
   "execution_count": 44,
   "id": "5b572e4a",
   "metadata": {},
   "outputs": [
    {
     "data": {
      "text/plain": [
       "' Hello Everyone '"
      ]
     },
     "execution_count": 44,
     "metadata": {},
     "output_type": "execute_result"
    }
   ],
   "source": [
    "mystr2=\" Hello Everyone \"\n",
    "mystr2"
   ]
  },
  {
   "cell_type": "code",
   "execution_count": 45,
   "id": "74394870",
   "metadata": {},
   "outputs": [
    {
     "data": {
      "text/plain": [
       "3"
      ]
     },
     "execution_count": 45,
     "metadata": {},
     "output_type": "execute_result"
    }
   ],
   "source": [
    "# count \n",
    "mystr2.count('e') # count the number of occurance of given substring"
   ]
  },
  {
   "cell_type": "code",
   "execution_count": 46,
   "id": "16a08eeb",
   "metadata": {},
   "outputs": [
    {
     "data": {
      "text/plain": [
       "' Hello Everyone '"
      ]
     },
     "execution_count": 46,
     "metadata": {},
     "output_type": "execute_result"
    }
   ],
   "source": [
    "mystr2"
   ]
  },
  {
   "cell_type": "code",
   "execution_count": 47,
   "id": "eb92359f",
   "metadata": {},
   "outputs": [
    {
     "data": {
      "text/plain": [
       "'llo Everyon'"
      ]
     },
     "execution_count": 47,
     "metadata": {},
     "output_type": "execute_result"
    }
   ],
   "source": [
    "# strip \n",
    "mystr2.strip(' He') # remove the input temporarily "
   ]
  },
  {
   "cell_type": "code",
   "execution_count": 50,
   "id": "2230d0c1",
   "metadata": {},
   "outputs": [
    {
     "data": {
      "text/plain": [
       "' Hello Everyone'"
      ]
     },
     "execution_count": 50,
     "metadata": {},
     "output_type": "execute_result"
    }
   ],
   "source": [
    "mystr2.rstrip() # remove all whitespace at the end of the string"
   ]
  },
  {
   "cell_type": "code",
   "execution_count": 49,
   "id": "b41471d1",
   "metadata": {},
   "outputs": [
    {
     "data": {
      "text/plain": [
       "'Hello Everyone '"
      ]
     },
     "execution_count": 49,
     "metadata": {},
     "output_type": "execute_result"
    }
   ],
   "source": [
    "mystr2.lstrip() # remove all whitespace at the beging of the string "
   ]
  },
  {
   "cell_type": "code",
   "execution_count": 51,
   "id": "b1b90327",
   "metadata": {},
   "outputs": [],
   "source": [
    "mystr2='Hello Python'"
   ]
  },
  {
   "cell_type": "code",
   "execution_count": 52,
   "id": "f1bbdce5",
   "metadata": {},
   "outputs": [],
   "source": [
    "mystr2= mystr2.lower()"
   ]
  },
  {
   "cell_type": "code",
   "execution_count": 53,
   "id": "6c7e449e",
   "metadata": {},
   "outputs": [
    {
     "data": {
      "text/plain": [
       "'hello python'"
      ]
     },
     "execution_count": 53,
     "metadata": {},
     "output_type": "execute_result"
    }
   ],
   "source": [
    "mystr2"
   ]
  },
  {
   "cell_type": "code",
   "execution_count": 56,
   "id": "9ef66b81",
   "metadata": {},
   "outputs": [],
   "source": [
    "mystr2= mystr2.upper()"
   ]
  },
  {
   "cell_type": "code",
   "execution_count": 57,
   "id": "8fc01b2b",
   "metadata": {},
   "outputs": [
    {
     "data": {
      "text/plain": [
       "'HELLO PYTHON'"
      ]
     },
     "execution_count": 57,
     "metadata": {},
     "output_type": "execute_result"
    }
   ],
   "source": [
    "mystr2"
   ]
  },
  {
   "cell_type": "code",
   "execution_count": 60,
   "id": "b7b911fa",
   "metadata": {},
   "outputs": [
    {
     "data": {
      "text/plain": [
       "'HELLO PYTHON'"
      ]
     },
     "execution_count": 60,
     "metadata": {},
     "output_type": "execute_result"
    }
   ],
   "source": [
    "mystr2"
   ]
  },
  {
   "cell_type": "code",
   "execution_count": 61,
   "id": "01a2b553",
   "metadata": {},
   "outputs": [
    {
     "data": {
      "text/plain": [
       "True"
      ]
     },
     "execution_count": 61,
     "metadata": {},
     "output_type": "execute_result"
    }
   ],
   "source": [
    "mystr2.startswith(\"HE\")\n",
    "# return boolean value true if string starts with \"He\""
   ]
  },
  {
   "cell_type": "code",
   "execution_count": 62,
   "id": "034fcb30",
   "metadata": {},
   "outputs": [
    {
     "data": {
      "text/plain": [
       "False"
      ]
     },
     "execution_count": 62,
     "metadata": {},
     "output_type": "execute_result"
    }
   ],
   "source": [
    "mystr2.startswith(\"He\")\n",
    "# return boolean value true if string starts with \"He\""
   ]
  },
  {
   "cell_type": "code",
   "execution_count": 63,
   "id": "a217c380",
   "metadata": {},
   "outputs": [
    {
     "data": {
      "text/plain": [
       "False"
      ]
     },
     "execution_count": 63,
     "metadata": {},
     "output_type": "execute_result"
    }
   ],
   "source": [
    "mystr2.endswith(\"thon\")\n",
    "# return boolean value true if string Ends with \"thon\""
   ]
  },
  {
   "cell_type": "code",
   "execution_count": 64,
   "id": "0053e8c5",
   "metadata": {},
   "outputs": [
    {
     "data": {
      "text/plain": [
       "True"
      ]
     },
     "execution_count": 64,
     "metadata": {},
     "output_type": "execute_result"
    }
   ],
   "source": [
    "mystr2.endswith(\"THON\")\n",
    "# return boolean value true if string Ends with \"thon\""
   ]
  },
  {
   "cell_type": "code",
   "execution_count": 65,
   "id": "f6588f76",
   "metadata": {},
   "outputs": [],
   "source": [
    "mystr4='one two three four one two two three five five six seven six seven one oneone ten eight ten nine eleven ten ten nine'\n"
   ]
  },
  {
   "cell_type": "code",
   "execution_count": 66,
   "id": "e4501e20",
   "metadata": {},
   "outputs": [
    {
     "data": {
      "text/plain": [
       "'one two three four one two two three five five six seven six seven one oneone ten eight ten nine eleven ten ten nine'"
      ]
     },
     "execution_count": 66,
     "metadata": {},
     "output_type": "execute_result"
    }
   ],
   "source": [
    "mystr4"
   ]
  },
  {
   "cell_type": "code",
   "execution_count": 67,
   "id": "37abc43c",
   "metadata": {},
   "outputs": [
    {
     "name": "stdout",
     "output_type": "stream",
     "text": [
      "['one', 'two', 'three', 'four', 'one', 'two', 'two', 'three', 'five', 'five', 'six', 'seven', 'six', 'seven', 'one', 'oneone', 'ten', 'eight', 'ten', 'nine', 'eleven', 'ten', 'ten', 'nine']\n"
     ]
    }
   ],
   "source": [
    "# split () - returns a list as output \n",
    "# \n",
    "print(mystr4.split())\n",
    "# List1=mystr4.split()"
   ]
  },
  {
   "cell_type": "code",
   "execution_count": 68,
   "id": "8361fc33",
   "metadata": {},
   "outputs": [
    {
     "name": "stdout",
     "output_type": "stream",
     "text": [
      "['', ' two three four ', ' two two three five five six seven six seven ', ' ', '', ' ten eight ten nine eleven ten ten nine']\n"
     ]
    }
   ],
   "source": [
    "print(mystr4.split('one'))"
   ]
  },
  {
   "cell_type": "code",
   "execution_count": 69,
   "id": "a4e2fb84",
   "metadata": {},
   "outputs": [
    {
     "name": "stdout",
     "output_type": "stream",
     "text": [
      "['one ', ' three four one ', ' ', ' three five five six seven six seven one oneone ten eight ten nine eleven ten ten nine']\n"
     ]
    }
   ],
   "source": [
    "print(mystr4.split('two'))"
   ]
  },
  {
   "cell_type": "code",
   "execution_count": 70,
   "id": "73a96374",
   "metadata": {},
   "outputs": [
    {
     "name": "stdout",
     "output_type": "stream",
     "text": [
      "the value of a & b is 5 7\n"
     ]
    }
   ],
   "source": [
    "a = 5 \n",
    "b = 7\n",
    "print(\"the value of a & b is\",a,b)"
   ]
  },
  {
   "cell_type": "code",
   "execution_count": 71,
   "id": "78487389",
   "metadata": {},
   "outputs": [
    {
     "name": "stdout",
     "output_type": "stream",
     "text": [
      "the value of a is 5 & b is () this is my output\n"
     ]
    }
   ],
   "source": [
    "\n",
    "print(\"the value of a is {} & b is () this is my output\".format(a,b))"
   ]
  },
  {
   "cell_type": "code",
   "execution_count": 72,
   "id": "e139ffcb",
   "metadata": {},
   "outputs": [
    {
     "name": "stdout",
     "output_type": "stream",
     "text": [
      "the value of a & b is 5 7\n"
     ]
    }
   ],
   "source": [
    "a = 5 \n",
    "b = 7\n",
    "sum=a+b\n",
    "print(\"the value of a & b is\",a,b)"
   ]
  },
  {
   "cell_type": "code",
   "execution_count": 75,
   "id": "d2007dd0",
   "metadata": {},
   "outputs": [
    {
     "name": "stdout",
     "output_type": "stream",
     "text": [
      "the sum of a is 5 & b is 7 this is my sum 12\n"
     ]
    }
   ],
   "source": [
    "print(\"the sum of a is {} & b is {} this is my sum {}\".format(a,b,sum))"
   ]
  },
  {
   "cell_type": "code",
   "execution_count": 81,
   "id": "b5c49595",
   "metadata": {},
   "outputs": [
    {
     "name": "stdout",
     "output_type": "stream",
     "text": [
      "cost of em1 ,em3 ,em2 are 40 , 77 , 55 \n"
     ]
    }
   ],
   "source": [
    "# combing string & numbers using  format method \n",
    "em1=40\n",
    "em2=55\n",
    "em3=77\n",
    "print('cost of em1 ,em3 ,em2 are {} , {} , {} '.format(em1,em3,em2))"
   ]
  },
  {
   "cell_type": "code",
   "execution_count": null,
   "id": "985b1307",
   "metadata": {},
   "outputs": [],
   "source": []
  }
 ],
 "metadata": {
  "kernelspec": {
   "display_name": "Python 3 (ipykernel)",
   "language": "python",
   "name": "python3"
  },
  "language_info": {
   "codemirror_mode": {
    "name": "ipython",
    "version": 3
   },
   "file_extension": ".py",
   "mimetype": "text/x-python",
   "name": "python",
   "nbconvert_exporter": "python",
   "pygments_lexer": "ipython3",
   "version": "3.11.5"
  }
 },
 "nbformat": 4,
 "nbformat_minor": 5
}
