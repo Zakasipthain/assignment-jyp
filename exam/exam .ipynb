{
 "cells": [
  {
   "cell_type": "markdown",
   "id": "cf87ccf6",
   "metadata": {},
   "source": [
    "# 2)"
   ]
  },
  {
   "cell_type": "code",
   "execution_count": 18,
   "id": "07403439",
   "metadata": {},
   "outputs": [
    {
     "name": "stdout",
     "output_type": "stream",
     "text": [
      "Abdul Mulla earns an annual salary of Inr 600000\n"
     ]
    }
   ],
   "source": [
    "class Employee:\n",
    "    def __init__(self, name, position, salary):\n",
    "        self.name = name\n",
    "        self.position = position\n",
    "        self.salary = salary\n",
    "\n",
    "    def calculate_annual_salary(self):\n",
    "        return self.salary * 12\n",
    "    \n",
    "employee1 = Employee(\"Abdul Mulla\", \"Manager\", 50000)  \n",
    "annual_salary = employee1.calculate_annual_salary()  \n",
    "print(f\"{employee1.name} earns an annual salary of Inr {annual_salary}\")"
   ]
  },
  {
   "cell_type": "markdown",
   "id": "afa93087",
   "metadata": {},
   "source": [
    "# 4)"
   ]
  },
  {
   "cell_type": "code",
   "execution_count": 19,
   "id": "0494d0b5",
   "metadata": {},
   "outputs": [
    {
     "name": "stdout",
     "output_type": "stream",
     "text": [
      "Original List: [1, 2, 3, 4, 5]\n",
      "Squared List: [1, 4, 9, 16, 25]\n"
     ]
    }
   ],
   "source": [
    "original_list = [1, 2, 3, 4, 5]\n",
    "\n",
    "squared_list = list(map(lambda x: x ** 2,original_list))\n",
    "\n",
    "print(\"Original List:\", original_list)\n",
    "print(\"Squared List:\", squared_list)"
   ]
  },
  {
   "cell_type": "markdown",
   "id": "2a1b097c",
   "metadata": {},
   "source": [
    "# 5)"
   ]
  },
  {
   "cell_type": "code",
   "execution_count": 12,
   "id": "6f575f78",
   "metadata": {},
   "outputs": [
    {
     "name": "stdout",
     "output_type": "stream",
     "text": [
      "{'City:': 'hubli', 'state:': 'karnataka', 'pincode': 580030}\n"
     ]
    }
   ],
   "source": [
    "keys = ['City:', 'state:', 'pincode']  \n",
    "values = ['hubli', 'karnataka', 580030]  \n",
    "\n",
    "result_dict = dict(zip(keys, values))\n",
    "print(result_dict)"
   ]
  },
  {
   "cell_type": "markdown",
   "id": "259196f9",
   "metadata": {},
   "source": [
    "# 6)"
   ]
  },
  {
   "cell_type": "code",
   "execution_count": 20,
   "id": "58fbe796",
   "metadata": {},
   "outputs": [
    {
     "name": "stdout",
     "output_type": "stream",
     "text": [
      "The largest number is: 18\n"
     ]
    }
   ],
   "source": [
    "a, b, c = 10, 5, 18 \n",
    "\n",
    "largest = max(a, b, c)\n",
    "print(\"The largest number is:\",largest)"
   ]
  },
  {
   "cell_type": "markdown",
   "id": "07361315",
   "metadata": {},
   "source": [
    "# 7)"
   ]
  },
  {
   "cell_type": "code",
   "execution_count": 30,
   "id": "8c4a7941",
   "metadata": {},
   "outputs": [
    {
     "name": "stdout",
     "output_type": "stream",
     "text": [
      "The simple interest for a principal of rs7500 at 5.0% interest rate for 3 years is rs1125.0\n",
      "The total amount will be rs8625.0\n"
     ]
    }
   ],
   "source": [
    "principal = 7500\n",
    "rate = 0.05 \n",
    "time = 3  \n",
    "\n",
    "simple_interest = principal * rate * time\n",
    "total_amount = principal + simple_interest\n",
    "print(f\"The simple interest for a principal of rs{principal} at {rate*100}% interest rate for {time} years is rs{simple_interest}\")\n",
    "print(f\"The total amount will be rs{total_amount}\")"
   ]
  },
  {
   "cell_type": "code",
   "execution_count": null,
   "id": "7f9aa441",
   "metadata": {},
   "outputs": [],
   "source": []
  }
 ],
 "metadata": {
  "kernelspec": {
   "display_name": "Python 3 (ipykernel)",
   "language": "python",
   "name": "python3"
  },
  "language_info": {
   "codemirror_mode": {
    "name": "ipython",
    "version": 3
   },
   "file_extension": ".py",
   "mimetype": "text/x-python",
   "name": "python",
   "nbconvert_exporter": "python",
   "pygments_lexer": "ipython3",
   "version": "3.11.5"
  }
 },
 "nbformat": 4,
 "nbformat_minor": 5
}
