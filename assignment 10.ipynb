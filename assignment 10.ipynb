{
 "cells": [
  {
   "cell_type": "markdown",
   "id": "86d5d78f",
   "metadata": {},
   "source": [
    "## create a 5 diff class of real world object with 4 properties in each class and call a function from each class to print the atrributes of that specific class"
   ]
  },
  {
   "cell_type": "code",
   "execution_count": 6,
   "id": "2c64b3b6",
   "metadata": {},
   "outputs": [
    {
     "name": "stdout",
     "output_type": "stream",
     "text": [
      "Pen: Parker, Color: Blue, Ink Color: Blue, Gel Pen: True\n",
      "Smartphone: Apple Model: iPhone 15, Storage: 128GB, Color: Black\n",
      "Book: To Kill a Mockingbird by Harper Lee, Genre: Fiction, Pages: 281\n",
      "Shirt: louis philippe, Size: Medium, Color: White, Material: Cotton\n",
      "Laptop: Asus Model: k571, Processor: Intel Core i7, RAM: 16GB\n"
     ]
    }
   ],
   "source": [
    "class Pen:\n",
    "    def __init__(self, brand, color, ink_color, is_gel):\n",
    "        self.brand = brand\n",
    "        self.color = color\n",
    "        self.ink_color = ink_color\n",
    "        self.is_gel = is_gel\n",
    "\n",
    "    def print_info(self):\n",
    "        print(f\"Pen: {self.brand}, Color: {self.color}, Ink Color: {self.ink_color}, Gel Pen: {self.is_gel}\")\n",
    "\n",
    "\n",
    "class Smartphone:\n",
    "    def __init__(self, brand, model, storage, color):\n",
    "        self.brand = brand\n",
    "        self.model = model\n",
    "        self.storage = storage\n",
    "        self.color = color\n",
    "\n",
    "    def print_info(self):\n",
    "        print(f\"Smartphone: {self.brand} Model: {self.model}, Storage: {self.storage}, Color: {self.color}\")\n",
    "\n",
    "\n",
    "class Book:\n",
    "    def __init__(self, title, author, genre, pages):\n",
    "        self.title = title\n",
    "        self.author = author\n",
    "        self.genre = genre\n",
    "        self.pages = pages\n",
    "\n",
    "    def print_info(self):\n",
    "        print(f\"Book: {self.title} by {self.author}, Genre: {self.genre}, Pages: {self.pages}\")\n",
    "\n",
    "\n",
    "class Shirt:\n",
    "    def __init__(self, brand, size, color, material):\n",
    "        self.brand = brand\n",
    "        self.size = size\n",
    "        self.color = color\n",
    "        self.material = material\n",
    "\n",
    "    def print_info(self):\n",
    "        print(f\"Shirt: {self.brand}, Size: {self.size}, Color: {self.color}, Material: {self.material}\")\n",
    "\n",
    "\n",
    "\n",
    "class Laptop:\n",
    "    def __init__(self, brand, model, processor, ram):\n",
    "        self.brand = brand\n",
    "        self.model = model\n",
    "        self.processor = processor\n",
    "        self.ram = ram\n",
    "\n",
    "    def print_info(self):\n",
    "        print(f\"Laptop: {self.brand} Model: {self.model}, Processor: {self.processor}, RAM: {self.ram}\")\n",
    "\n",
    "\n",
    "# Creating instances\n",
    "pen = Pen(\"Parker\", \"Blue\", \"Blue\", True)\n",
    "pen.print_info()\n",
    "\n",
    "phone = Smartphone(\"Apple\", \"iPhone 15\", \"128GB\", \"Black\")\n",
    "phone.print_info()\n",
    "\n",
    "book = Book(\"To Kill a Mockingbird\", \"Harper Lee\", \"Fiction\", 281)\n",
    "book.print_info()\n",
    "\n",
    "shirt = Shirt(\"louis philippe\", \"Medium\", \"White\", \"Cotton\")\n",
    "shirt.print_info()\n",
    "\n",
    "laptop = Laptop(\"Asus\", \"k571\", \"Intel Core i7\", \"16GB\")\n",
    "laptop.print_info()"
   ]
  },
  {
   "cell_type": "code",
   "execution_count": null,
   "id": "81e4969a",
   "metadata": {},
   "outputs": [],
   "source": []
  }
 ],
 "metadata": {
  "kernelspec": {
   "display_name": "Python 3 (ipykernel)",
   "language": "python",
   "name": "python3"
  },
  "language_info": {
   "codemirror_mode": {
    "name": "ipython",
    "version": 3
   },
   "file_extension": ".py",
   "mimetype": "text/x-python",
   "name": "python",
   "nbconvert_exporter": "python",
   "pygments_lexer": "ipython3",
   "version": "3.11.5"
  }
 },
 "nbformat": 4,
 "nbformat_minor": 5
}
