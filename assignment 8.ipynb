{
 "cells": [
  {
   "cell_type": "markdown",
   "id": "649542e4",
   "metadata": {},
   "source": [
    "### 4. Get the square root of the numbers in a tuple."
   ]
  },
  {
   "cell_type": "code",
   "execution_count": 10,
   "id": "9de41b3e",
   "metadata": {},
   "outputs": [
    {
     "name": "stdout",
     "output_type": "stream",
     "text": [
      "Square roots: [2.0, 3.0, 4.0, 5.0]\n"
     ]
    }
   ],
   "source": [
    "from math import sqrt\n",
    "def calculate_square_root(number):\n",
    "    return sqrt(number)\n",
    "tup= (4, 9, 16, 25)\n",
    "sqrt1 = map(calculate_square_root,tup)\n",
    "result = list(sqrt1)\n",
    "print(\"Square roots:\", result)"
   ]
  },
  {
   "cell_type": "code",
   "execution_count": 12,
   "id": "f2a434d9",
   "metadata": {},
   "outputs": [
    {
     "name": "stdout",
     "output_type": "stream",
     "text": [
      "Square roots: [2, 3, 4, 5]\n"
     ]
    }
   ],
   "source": [
    "def calculate_integer_square_root(number):\n",
    "    return int(number ** 0.5)\n",
    "tup1 = (4, 9, 16, 25)\n",
    "sqrt2 = map(calculate_integer_square_root,tup1)\n",
    "result = list(sqrt2)\n",
    "print(\"Square roots:\", result)"
   ]
  },
  {
   "cell_type": "markdown",
   "id": "2820aaa4",
   "metadata": {},
   "source": [
    "### 5. Get the prime numbers from the numbers 11 to 30."
   ]
  },
  {
   "cell_type": "code",
   "execution_count": 19,
   "id": "7d8e25ee",
   "metadata": {},
   "outputs": [
    {
     "name": "stdout",
     "output_type": "stream",
     "text": [
      "Prime numbers: [11, 13, 17, 19, 23, 29]\n"
     ]
    }
   ],
   "source": [
    "is_prime = lambda x: all(x % i != 0 for i in range(2, int(x**0.5) + 1)) and x > 1\n",
    "prime_numbers = list(filter(is_prime, range(11, 31)))\n",
    "print(\"Prime numbers:\", prime_numbers)"
   ]
  },
  {
   "cell_type": "code",
   "execution_count": 20,
   "id": "dd50720b",
   "metadata": {},
   "outputs": [
    {
     "name": "stdout",
     "output_type": "stream",
     "text": [
      "Prime numbers: [11, 13, 17, 19, 23, 29]\n"
     ]
    }
   ],
   "source": [
    "def is_prime(x):\n",
    "    return x > 1 and all(x % i for i in range(2, int(x**0.5) + 1))\n",
    "prime_numbers = list(filter(is_prime, range(11, 31)))\n",
    "print(\"Prime numbers:\", prime_numbers)"
   ]
  },
  {
   "cell_type": "markdown",
   "id": "a6497131",
   "metadata": {},
   "source": [
    "### 6. Create 2 lists of interger values, add both the list element-wise and filter the values which are greater than 10 and find the product of those value (Using lambda, map,filter and reduce).\n"
   ]
  },
  {
   "cell_type": "code",
   "execution_count": 35,
   "id": "2d895175",
   "metadata": {},
   "outputs": [
    {
     "name": "stdout",
     "output_type": "stream",
     "text": [
      "List 1: [1, 5, 8, 12, 3]\n",
      "List 2: [4, 6, 10, 3, 2]\n",
      "Sum Result: [5, 11, 18, 15, 5]\n",
      "Filtered Values (> 10): [11, 18, 15]\n",
      "Product of Filtered Values: 2970\n"
     ]
    }
   ],
   "source": [
    "from functools import reduce\n",
    "list1 = [1, 5, 8, 12, 3]\n",
    "list2 = [4, 6, 10, 3, 2]\n",
    "Sum_of_the_value = list(map(lambda x, y: x + y, list1, list2))\n",
    "filtered_values = list(filter(lambda x: x > 10, Sum))\n",
    "product_of_those_value = reduce(lambda x, y: x * y, filtered_values)\n",
    "print(f\"List 1: {list1}\\nList 2: {list2}\\nSum Result: {Sum_of_the_value}\\nFiltered Values (> 10): {filtered_values}\\nProduct of Filtered Values: {product_of_those_value}\")"
   ]
  },
  {
   "cell_type": "code",
   "execution_count": null,
   "id": "1b0eb10d",
   "metadata": {},
   "outputs": [],
   "source": []
  }
 ],
 "metadata": {
  "kernelspec": {
   "display_name": "Python 3 (ipykernel)",
   "language": "python",
   "name": "python3"
  },
  "language_info": {
   "codemirror_mode": {
    "name": "ipython",
    "version": 3
   },
   "file_extension": ".py",
   "mimetype": "text/x-python",
   "name": "python",
   "nbconvert_exporter": "python",
   "pygments_lexer": "ipython3",
   "version": "3.11.5"
  }
 },
 "nbformat": 4,
 "nbformat_minor": 5
}
