{
 "cells": [
  {
   "cell_type": "markdown",
   "id": "f79c787d",
   "metadata": {},
   "source": [
    "##### Weekly Assignment of Ai with Python - Module 1. 04-11-2023\n",
    "Last date of submission: 06-11-2023\n",
    "______________________________________________________________________________"
   ]
  },
  {
   "cell_type": "markdown",
   "id": "c1aefece",
   "metadata": {},
   "source": [
    "##### 1. Write a Python program which accepts a sequence of comma-separated numbers from user and generate a list  with those numbers"
   ]
  },
  {
   "cell_type": "code",
   "execution_count": 5,
   "id": "ba966697",
   "metadata": {},
   "outputs": [
    {
     "name": "stdout",
     "output_type": "stream",
     "text": [
      "Enter a sequence of comma-separated numbers: 10,20,30,40\n",
      "List of numbers: ['10', '20', '30', '40']\n"
     ]
    }
   ],
   "source": [
    "#code\n",
    "# Input from the user\n",
    "str0 = input(\"Enter a sequence of comma-separated numbers: \")\n",
    "\n",
    "# Split the input string by commas and convert it into a list of numbers\n",
    "List = str0.split(',')\n",
    "numbers = [str(num) for num in List]\n",
    "\n",
    "# Print the list of numbers\n",
    "print(\"List of numbers:\",numbers)"
   ]
  },
  {
   "cell_type": "markdown",
   "id": "ca6b692a",
   "metadata": {},
   "source": [
    "##### 2. Write a Python program to accept a filename from the user and print the extension of that"
   ]
  },
  {
   "cell_type": "markdown",
   "id": "59bbbff0",
   "metadata": {},
   "source": []
  },
  {
   "cell_type": "code",
   "execution_count": 2,
   "id": "be5d4d25",
   "metadata": {},
   "outputs": [
    {
     "name": "stdout",
     "output_type": "stream",
     "text": [
      "Enter a filename: keonics.exe\n",
      "File extension: exe\n"
     ]
    }
   ],
   "source": [
    "# code\n",
    "# Input from the user\n",
    "filename = input(\"Enter a filename: \")\n",
    "\n",
    "# Split the filename by the dot to get the extension\n",
    "fileextension = filename.split(\".\")[-1]\n",
    "\n",
    "# Print the file extension\n",
    "print(\"File extension:\",fileextension)"
   ]
  },
  {
   "cell_type": "markdown",
   "id": "9e11e99b",
   "metadata": {},
   "source": [
    "##### 3. Write a Python program to display the first and last colors from the following list color_list = [\"yellow\",\"Green\",\"grey\" ,\"orange\"]"
   ]
  },
  {
   "cell_type": "markdown",
   "id": "a1ba0e64",
   "metadata": {},
   "source": []
  },
  {
   "cell_type": "code",
   "execution_count": 3,
   "id": "0ac1a2d2",
   "metadata": {},
   "outputs": [
    {
     "name": "stdout",
     "output_type": "stream",
     "text": [
      "The first color is: yellow\n",
      "The last color is: orange\n"
     ]
    }
   ],
   "source": [
    "# code\n",
    "colorlist = [\"yellow\", \"Green\", \"grey\", \"orange\"]\n",
    "\n",
    "# Display the first color\n",
    "print(\"The first color is:\",colorlist[0])\n",
    "\n",
    "# Display the last color\n",
    "print(\"The last color is:\",colorlist[-1])"
   ]
  },
  {
   "cell_type": "markdown",
   "id": "2dad21eb",
   "metadata": {},
   "source": [
    "##### 4. Write a program that checks if a given string is a palindrome."
   ]
  },
  {
   "cell_type": "code",
   "execution_count": 4,
   "id": "6497ed5e",
   "metadata": {},
   "outputs": [
    {
     "name": "stdout",
     "output_type": "stream",
     "text": [
      "Enter a string: mom\n",
      "The input string is a palindrome.\n"
     ]
    }
   ],
   "source": [
    "# Code\n",
    "# Input from the user\n",
    "str1 = input(\"Enter a string: \")\n",
    "\n",
    "# Check if the input string is a palindrome\n",
    "if str1 == str1[::-1]:\n",
    "    print(\"The input string is a palindrome.\")\n",
    "else:\n",
    "    print(\"The input string is not a palindrome.\")"
   ]
  },
  {
   "cell_type": "markdown",
   "id": "d0cdc49c",
   "metadata": {},
   "source": [
    "##### 5. Return the count of sub-string “Shubhangi” appears in the given string - \"Shubhangi is good developer. Shubhangi is a Data Scientist\""
   ]
  },
  {
   "cell_type": "code",
   "execution_count": 6,
   "id": "53a722d9",
   "metadata": {},
   "outputs": [
    {
     "name": "stdout",
     "output_type": "stream",
     "text": [
      "The sub-string 'Shubhangi' appears 2 times in the given string.\n"
     ]
    }
   ],
   "source": [
    "# Input string\n",
    "name = \"Shubhangi is good developer. Shubhangi is a Data Scientist\"\n",
    "\n",
    "# Sub-string to search for\n",
    "subname = \"Shubhangi\"\n",
    "\n",
    "# Count the occurrences of the sub-string in the input string\n",
    "count = name.count(subname)\n",
    "\n",
    "# Print the count\n",
    "print(\"The sub-string '{}' appears {} times in the given string.\".format(subname,count))"
   ]
  },
  {
   "cell_type": "markdown",
   "id": "656f8722",
   "metadata": {},
   "source": [
    "##### 6. Write a function to calculate area and perimeter of a rectangle."
   ]
  },
  {
   "cell_type": "code",
   "execution_count": 5,
   "id": "10d3cdfa",
   "metadata": {},
   "outputs": [
    {
     "name": "stdout",
     "output_type": "stream",
     "text": [
      "Enter the length of the rectangle: 12\n",
      "Enter the width of the rectangle: 12\n",
      "Area of the rectangle: 144\n",
      "Perimeter of the rectangle: 48\n"
     ]
    }
   ],
   "source": [
    "# code \n",
    "def calculate_rectangle_area(length, width):\n",
    "    area = length * width\n",
    "    return area\n",
    "\n",
    "def calculate_rectangle_perimeter(length, width):\n",
    "    perimeter = 2 * (length + width)\n",
    "    return perimeter\n",
    "\n",
    "# Input the length and width of the rectangle\n",
    "length = int(input(\"Enter the length of the rectangle: \"))\n",
    "width = int(input(\"Enter the width of the rectangle: \"))\n",
    "\n",
    "# Calculate and print the area and perimeter\n",
    "area = calculate_rectangle_area(length, width)\n",
    "perimeter = calculate_rectangle_perimeter(length, width)\n",
    "\n",
    "print(\"Area of the rectangle:\",area)\n",
    "print(\"Perimeter of the rectangle:\",perimeter)"
   ]
  },
  {
   "cell_type": "markdown",
   "id": "1ab8a2b4",
   "metadata": {},
   "source": [
    "##### 7. Write a function to tell user if he/she is able to vote or not."
   ]
  },
  {
   "cell_type": "code",
   "execution_count": 6,
   "id": "654deec1",
   "metadata": {},
   "outputs": [
    {
     "name": "stdout",
     "output_type": "stream",
     "text": [
      "Enter your age:21\n",
      "You are eligible to vote.\n"
     ]
    }
   ],
   "source": [
    "# code\n",
    "def check_voting_eligibility(age):\n",
    "    if age >= 18:\n",
    "        return \"You are eligible to vote.\"\n",
    "    else:\n",
    "        return \"You are not eligible to vote yet.\"\n",
    "\n",
    "# Input the user's age\n",
    "age = int(input(\"Enter your age:\"))\n",
    "\n",
    "# Check and print voting eligibility\n",
    "result = check_voting_eligibility(age)\n",
    "print(result)"
   ]
  },
  {
   "cell_type": "markdown",
   "id": "89e51169",
   "metadata": {},
   "source": [
    "##### 8. Write a program to check if each word in a string begins with a capital letter?"
   ]
  },
  {
   "cell_type": "code",
   "execution_count": 7,
   "id": "72ecd168",
   "metadata": {},
   "outputs": [
    {
     "name": "stdout",
     "output_type": "stream",
     "text": [
      "Enter a sentence: Hello My Name Is Xyz and Hilp\n",
      "Not all words in the sentence start with a capital letter.\n"
     ]
    }
   ],
   "source": [
    "# code\n",
    "# Input from the user\n",
    "sentence = input(\"Enter a sentence: \")\n",
    "\n",
    "# Split the sentence into words\n",
    "words = sentence.split()\n",
    "\n",
    "# Initialize a flag to assume all words start with a capital letter\n",
    "all_words_start_with_capital = True\n",
    "\n",
    "# Check each word in the list\n",
    "for word in words:\n",
    "    if not word[0].isupper():\n",
    "        all_words_start_with_capital = False\n",
    "\n",
    "# Print the result\n",
    "if all_words_start_with_capital:\n",
    "    print(\"All words in the sentence start with a capital letter.\")\n",
    "else:\n",
    "    print(\"Not all words in the sentence start with a capital letter.\") "
   ]
  },
  {
   "cell_type": "code",
   "execution_count": 8,
   "id": "4913a6f1",
   "metadata": {},
   "outputs": [
    {
     "name": "stdout",
     "output_type": "stream",
     "text": [
      "Enter a sentence: Hello My Name Is Xyz And Hilp\n",
      "All words in the sentence start with a capital letter.\n"
     ]
    }
   ],
   "source": [
    "# code\n",
    "# Input from the user\n",
    "sentence = input(\"Enter a sentence: \")\n",
    "\n",
    "# Split the sentence into words\n",
    "words = sentence.split()\n",
    "\n",
    "# Initialize a flag to assume all words start with a capital letter\n",
    "all_words_start_with_capital = True\n",
    "\n",
    "# Check each word in the list\n",
    "for word in words:\n",
    "    if not word[0].isupper():\n",
    "        all_words_start_with_capital = False\n",
    "\n",
    "# Print the result\n",
    "if all_words_start_with_capital:\n",
    "    print(\"All words in the sentence start with a capital letter.\")\n",
    "else:\n",
    "    print(\"Not all words in the sentence start with a capital letter.\") "
   ]
  },
  {
   "cell_type": "markdown",
   "id": "e443e3f6",
   "metadata": {},
   "source": [
    "##### 9. Write a program to Check if a string contains a specific substring."
   ]
  },
  {
   "cell_type": "code",
   "execution_count": 7,
   "id": "94c4172d",
   "metadata": {},
   "outputs": [
    {
     "name": "stdout",
     "output_type": "stream",
     "text": [
      "Enter a main string: my favourite animal is dog\n",
      "Enter a substring to search for: dog\n",
      "The main string contains the substring 'dog'.\n"
     ]
    }
   ],
   "source": [
    "# code \n",
    "# Input from the user\n",
    "mainstring = input(\"Enter a main string: \")\n",
    "substring = input(\"Enter a substring to search for: \")\n",
    "\n",
    "# Check if the substring is present in the main string\n",
    "if substring in mainstring:\n",
    "    print(f\"The main string contains the substring '{substring}'.\")\n",
    "else:\n",
    "    print(f\"The main string does not contain the substring '{substring}'.\")"
   ]
  },
  {
   "cell_type": "markdown",
   "id": "8bfc4227",
   "metadata": {},
   "source": [
    "##### 10. Capitalize the first character of a string"
   ]
  },
  {
   "cell_type": "code",
   "execution_count": 8,
   "id": "209e5dee",
   "metadata": {},
   "outputs": [
    {
     "name": "stdout",
     "output_type": "stream",
     "text": [
      "Enter a string: hello my name is keonics\n",
      "Original string: hello my name is keonics\n",
      "Capitalized string: Hello my name is keonics\n"
     ]
    }
   ],
   "source": [
    "# code\n",
    "# Input from the user\n",
    "str3 = input(\"Enter a string: \")\n",
    "\n",
    "# Capitalize the first character\n",
    "capitalize_str3 = str3.capitalize()\n",
    "\n",
    "# Print the capitalized string\n",
    "print(\"Original string:\",str3)\n",
    "print(\"Capitalized string:\",capitalize_str3)"
   ]
  },
  {
   "cell_type": "markdown",
   "id": "5d18bf6d",
   "metadata": {},
   "source": [
    "##### 11. Reverse the string “hello world”"
   ]
  },
  {
   "cell_type": "code",
   "execution_count": 1,
   "id": "0360a988",
   "metadata": {},
   "outputs": [
    {
     "data": {
      "text/plain": [
       "'Hello World'"
      ]
     },
     "execution_count": 1,
     "metadata": {},
     "output_type": "execute_result"
    }
   ],
   "source": [
    "# code\n",
    "str1='Hello World'\n",
    "str1"
   ]
  },
  {
   "cell_type": "code",
   "execution_count": 12,
   "id": "98071b86",
   "metadata": {},
   "outputs": [
    {
     "data": {
      "text/plain": [
       "'dlroW olleH'"
      ]
     },
     "execution_count": 12,
     "metadata": {},
     "output_type": "execute_result"
    }
   ],
   "source": [
    "str1[-1:-12:-1] "
   ]
  },
  {
   "cell_type": "code",
   "execution_count": 9,
   "id": "c2f4f2c9",
   "metadata": {},
   "outputs": [
    {
     "name": "stdout",
     "output_type": "stream",
     "text": [
      "Original string: Hello World\n",
      "Reversed string: dlroW olleH\n"
     ]
    }
   ],
   "source": [
    "# Input string\n",
    "str4 = \"Hello World\"\n",
    "\n",
    "# Reverse the string\n",
    "reversed_str4= str4[::-1]\n",
    "\n",
    "# Print the reversed string\n",
    "print(\"Original string:\",str4)\n",
    "print(\"Reversed string:\",reversed_str4)"
   ]
  },
  {
   "cell_type": "markdown",
   "id": "f778734e",
   "metadata": {},
   "source": [
    "##### 12. Write a program to display the last digit of a number. (hint : any number % 10 will return the last digit)"
   ]
  },
  {
   "cell_type": "code",
   "execution_count": 13,
   "id": "63cadf9d",
   "metadata": {},
   "outputs": [
    {
     "name": "stdout",
     "output_type": "stream",
     "text": [
      "Enter a number: 524\n",
      "The last digit of the number is: 4\n"
     ]
    }
   ],
   "source": [
    "# code\n",
    "# Input from the user\n",
    "number = int(input(\"Enter a number: \"))\n",
    "\n",
    "# Calculate and print the last digit\n",
    "last_digit = number % 10\n",
    "print(\"The last digit of the number is:\",last_digit)"
   ]
  },
  {
   "cell_type": "markdown",
   "id": "c622d0a6",
   "metadata": {},
   "source": [
    "##### 13. Write a program to check whether an years is leap year or not."
   ]
  },
  {
   "cell_type": "code",
   "execution_count": 1,
   "id": "4993c332",
   "metadata": {},
   "outputs": [
    {
     "name": "stdout",
     "output_type": "stream",
     "text": [
      "Enter a year: 2004\n",
      "2004 is a leap year\n"
     ]
    }
   ],
   "source": [
    "# code\n",
    "year = int(input(\"Enter a year: \"))\n",
    "\n",
    "if (year % 4 == 0 and year % 100 != 0) or (year % 400 == 0):\n",
    "    print(f\"{year} is a leap year\")\n",
    "else:\n",
    "    print(f\"{year} is not a leap year\")"
   ]
  },
  {
   "cell_type": "markdown",
   "id": "9a18d59f",
   "metadata": {},
   "source": [
    "##### 14. Write a program to accept a number from 1 to 7 and display the name of the day like 1 for Sunday , 2 for Monday and so on."
   ]
  },
  {
   "cell_type": "code",
   "execution_count": 11,
   "id": "3efedefa",
   "metadata": {},
   "outputs": [
    {
     "name": "stdout",
     "output_type": "stream",
     "text": [
      "Enter a number from 1 to 7: 5\n",
      "The day is Thursday\n"
     ]
    }
   ],
   "source": [
    "# code\n",
    "# Get input from the user\n",
    "daynumber = int(input(\"Enter a number from 1 to 7: \"))\n",
    "\n",
    "# Define a list of days\n",
    "days = [\"Sunday\", \"Monday\", \"Tuesday\", \"Wednesday\", \"Thursday\", \"Friday\", \"Saturday\"]\n",
    "\n",
    "# Check if the input is within the valid range\n",
    "if 1 <= daynumber <= 7:\n",
    "    # Display the day corresponding to the input\n",
    "    print(\"The day is\", days[daynumber - 1])\n",
    "else:\n",
    "    print(\"Invalid input. Please enter a number from 1 to 7.\") "
   ]
  },
  {
   "cell_type": "markdown",
   "id": "8c7524de",
   "metadata": {},
   "source": [
    "##### 15. Write a program to check whether a number (accepted from user) is positive or negative."
   ]
  },
  {
   "cell_type": "code",
   "execution_count": 9,
   "id": "5e7316e3",
   "metadata": {},
   "outputs": [
    {
     "name": "stdout",
     "output_type": "stream",
     "text": [
      "Enter a number: -2\n",
      "The number is negative\n"
     ]
    }
   ],
   "source": [
    "# code\n",
    "# Input from the user\n",
    "number = float(input(\"Enter a number:\"))\n",
    "\n",
    "# Check if the number is positive or negative\n",
    "if number > 0:\n",
    "    print(\"The number is positive\")\n",
    "else :\n",
    "    print(\"The number is negative\")"
   ]
  },
  {
   "cell_type": "markdown",
   "id": "e76ce83f",
   "metadata": {},
   "source": [
    "##### 16. Write a program to whether a number (accepted from user) is divisible by 2 and 3 both."
   ]
  },
  {
   "cell_type": "code",
   "execution_count": 11,
   "id": "7398377e",
   "metadata": {},
   "outputs": [
    {
     "name": "stdout",
     "output_type": "stream",
     "text": [
      "Enter a number: 6\n",
      "The number is divisible by both 2 and 3\n"
     ]
    }
   ],
   "source": [
    "# code\n",
    "# Input from the user\n",
    "number = int(input(\"Enter a number: \"))\n",
    "\n",
    "# Check if the number is divisible by both 2 and 3\n",
    "if number % 2 == 0 and number % 3 == 0:\n",
    "    print(\"The number is divisible by both 2 and 3\")\n",
    "else:\n",
    "    print(\"The number is not divisible by both 2 and 3\")"
   ]
  },
  {
   "cell_type": "markdown",
   "id": "f5e3e15f",
   "metadata": {},
   "source": [
    "# List\n",
    "Basic List Operations:\n",
    "\n",
    "Create an empty list.\n",
    "Add an element to the end of the list.\n",
    "Insert an element at a specific position in the list.\n",
    "Remove an element from the list.\n",
    "Check if an element is present in the list.\n",
    "List Slicing and Indexing:\n",
    "\n",
    "Print the first element of the list.\n",
    "Print the last element of the list.\n",
    "Print elements from index 2 to 5 (exclusive) using slicing.\n",
    "Print every alternate element of the list.\n",
    "List Functions:\n",
    "\n",
    "Find the length of the list.\n",
    "Sort the list in ascending order.\n",
    "Reverse the list.\n",
    "Remove the last element from the list.\n",
    "Clear all elements from the list.\n",
    "List Comprehension:\n",
    "\n",
    "Create a new list containing squares of elements from the original list.\n",
    "Create a new list containing only even numbers from the original list.\n",
    "Nested Lists:\n",
    "\n",
    "Create a nested list containing two lists: [1, 2, 3] and ['a', 'b', 'c'].\n",
    "Access the second element of the first list inside the nested list.\n",
    "Modify the third element of the second list inside the nested list.\n",
    "List Methods:\n",
    "\n",
    "Use the append() method to add an element to the end of the list.\n",
    "Use the count() method to count the number of occurrences of a specific element.\n",
    "Use the index() method to find the index of a specific element.\n",
    "Use the remove() method to remove the first occurrence of a specific element.\n",
    "Use the extend() method to add elements from another list to the current list."
   ]
  },
  {
   "cell_type": "markdown",
   "id": "650bf9e4",
   "metadata": {},
   "source": [
    "##### 17. Write a program that takes a list of numbers as input and calculates their sum.\n"
   ]
  },
  {
   "cell_type": "code",
   "execution_count": 23,
   "id": "b79e6bbe",
   "metadata": {},
   "outputs": [],
   "source": [
    "# code\n"
   ]
  },
  {
   "cell_type": "markdown",
   "id": "7be5c366",
   "metadata": {},
   "source": [
    "##### 18. List Modification Initialize a list with elements [2, 4, 6, 8, 10]Append the number 12 to the end of the list. Remove the element 6 from the list. Print the modified list."
   ]
  },
  {
   "cell_type": "code",
   "execution_count": 12,
   "id": "556132e7",
   "metadata": {},
   "outputs": [
    {
     "name": "stdout",
     "output_type": "stream",
     "text": [
      "Modified list: [2, 4, 8, 10, 12]\n"
     ]
    }
   ],
   "source": [
    "# code \n",
    "# Initialize the list\n",
    "List1= [2, 4, 6, 8, 10]\n",
    "\n",
    "# Append the number 12 to the end of the list\n",
    "List1.append(12)\n",
    "\n",
    "# Remove the element 6 from the list\n",
    "List1.remove(6)\n",
    "\n",
    "# Print the modified list\n",
    "print(\"Modified list:\",List1)"
   ]
  },
  {
   "cell_type": "markdown",
   "id": "30007498",
   "metadata": {},
   "source": [
    "##### 19. List Operations Initialize two lists: [1, 2, 3] and [4, 5, 6]. Concatenate these lists without using the + operator. Print the concatenated list."
   ]
  },
  {
   "cell_type": "code",
   "execution_count": 3,
   "id": "d9e8941e",
   "metadata": {},
   "outputs": [
    {
     "name": "stdout",
     "output_type": "stream",
     "text": [
      "Concatenated list: [1, 2, 3, 4, 5, 6]\n"
     ]
    }
   ],
   "source": [
    "# code\n",
    "# Initialize two lists\n",
    "list1 = [1, 2, 3]\n",
    "list2 = [4, 5, 6]\n",
    "\n",
    "# Concatenate the lists using the extend() method\n",
    "list1.extend(list2)\n",
    "\n",
    "# Print the concatenated list\n",
    "print(\"Concatenated list:\",list1)"
   ]
  },
  {
   "cell_type": "markdown",
   "id": "d072d013",
   "metadata": {},
   "source": [
    "### Tuple \n",
    "Python tuples are a type of data structure that is very similar to lists. The main difference between the two is that tuples are immutable, meaning they cannot be changed once they are created. This makes them ideal for storing data that should not be modified, such as database records."
   ]
  },
  {
   "cell_type": "markdown",
   "id": "178e72c4",
   "metadata": {},
   "source": [
    "https://pynative.com/wp-content/uploads/2021/02/python-tuple.jpg"
   ]
  },
  {
   "cell_type": "markdown",
   "id": "cb928e09",
   "metadata": {},
   "source": [
    "##### 20. Create and explain the working of tuple."
   ]
  },
  {
   "cell_type": "code",
   "execution_count": 1,
   "id": "2952de3c",
   "metadata": {},
   "outputs": [
    {
     "data": {
      "text/plain": [
       "(1, 2, 'apple', 3)"
      ]
     },
     "execution_count": 1,
     "metadata": {},
     "output_type": "execute_result"
    }
   ],
   "source": [
    "#code\n",
    "# Create a tuple\n",
    "tup= (1, 2, \"apple\", 3)\n",
    "tup"
   ]
  },
  {
   "cell_type": "markdown",
   "id": "a1c66587",
   "metadata": {},
   "source": [
    "##### 21. Initialize and Access Tuple Elements\n",
    "\n",
    "Initialize a tuple with elements (3, 6, 9, 12, 15).\n",
    "Print the second element of the tuple.\n",
    "Attempt to change the value of the second element (this will show that tuples are immutable)."
   ]
  },
  {
   "cell_type": "code",
   "execution_count": 2,
   "id": "2f7f2d08",
   "metadata": {},
   "outputs": [
    {
     "name": "stdout",
     "output_type": "stream",
     "text": [
      "Second element of the tuple: 6\n"
     ]
    },
    {
     "ename": "TypeError",
     "evalue": "'tuple' object does not support item assignment",
     "output_type": "error",
     "traceback": [
      "\u001b[1;31m---------------------------------------------------------------------------\u001b[0m",
      "\u001b[1;31mTypeError\u001b[0m                                 Traceback (most recent call last)",
      "Cell \u001b[1;32mIn[2], line 9\u001b[0m\n\u001b[0;32m      6\u001b[0m \u001b[38;5;28mprint\u001b[39m(\u001b[38;5;124m\"\u001b[39m\u001b[38;5;124mSecond element of the tuple:\u001b[39m\u001b[38;5;124m\"\u001b[39m, tup1[\u001b[38;5;241m1\u001b[39m])\n\u001b[0;32m      8\u001b[0m \u001b[38;5;66;03m# change the value of the second element \u001b[39;00m\n\u001b[1;32m----> 9\u001b[0m tup1[\u001b[38;5;241m1\u001b[39m] \u001b[38;5;241m=\u001b[39m \u001b[38;5;241m7\u001b[39m\n",
      "\u001b[1;31mTypeError\u001b[0m: 'tuple' object does not support item assignment"
     ]
    }
   ],
   "source": [
    "#code\n",
    "# Initialize a tuple\n",
    "tup1 = (3, 6, 9, 12, 15)\n",
    "\n",
    "# Print the second element\n",
    "print(\"Second element of the tuple:\", tup1[1])\n",
    "\n",
    "# change the value of the second element \n",
    "tup1[1] = 7 "
   ]
  },
  {
   "cell_type": "markdown",
   "id": "92da5985",
   "metadata": {},
   "source": [
    "22. Initialize a tuple with elements (7, 2, 9, 5, 1).\n",
    "Find the length of the tuple.\n",
    "Find the index of the element 9.\n",
    "Count the number of occurrences of 2 in the tuple."
   ]
  },
  {
   "cell_type": "code",
   "execution_count": 4,
   "id": "4678c422",
   "metadata": {},
   "outputs": [
    {
     "name": "stdout",
     "output_type": "stream",
     "text": [
      "Length of the tuple: 5\n",
      "Index of the element 9: 2\n",
      "Count of the element 2: 1\n"
     ]
    }
   ],
   "source": [
    "#code\n",
    "# Initialize a tuple\n",
    "tup2 = (7, 2, 9, 5, 1)\n",
    "\n",
    "# Find the length of the tuple\n",
    "length = len(tup2)\n",
    "print(\"Length of the tuple:\",length)\n",
    "\n",
    "# Find the index of the element 9\n",
    "index = tup2.index(9)\n",
    "print(\"Index of the element 9:\",index)\n",
    "\n",
    "# Count the number of occurrences of 2 in the tuple\n",
    "count= tup2.count(2)\n",
    "print(\"Count of the element 2:\",count)"
   ]
  },
  {
   "cell_type": "markdown",
   "id": "4033d394",
   "metadata": {},
   "source": [
    "23. Set Initialization and Operations\n",
    "\n",
    "Initialize two sets: {1, 2, 3, 4, 5} and {3, 4, 5, 6, 7}.\n",
    "Find the union of the two sets.\n",
    "Find the intersection of the two sets.\n",
    "Find the difference between the first set and the second set."
   ]
  },
  {
   "cell_type": "code",
   "execution_count": 5,
   "id": "299679b9",
   "metadata": {},
   "outputs": [
    {
     "name": "stdout",
     "output_type": "stream",
     "text": [
      "Union of the sets: {1, 2, 3, 4, 5, 6, 7}\n",
      "Intersection of the sets: {3, 4, 5}\n",
      "Difference between the sets (set1 - set2): {1, 2}\n"
     ]
    }
   ],
   "source": [
    "#code\n",
    "# Initialize two sets\n",
    "set1 = {1, 2, 3, 4, 5}\n",
    "set2 = {3, 4, 5, 6, 7}\n",
    "\n",
    "# Find the union of the two sets\n",
    "union = set1.union(set2)\n",
    "print(\"Union of the sets:\",union)\n",
    "\n",
    "# Find the intersection of the two sets\n",
    "intersection= set1.intersection(set2)\n",
    "print(\"Intersection of the sets:\", intersection)\n",
    "\n",
    "# Find the difference between the first set and the second set\n",
    "difference = set1.difference(set2)\n",
    "print(\"Difference between the sets (set1 - set2):\",difference)"
   ]
  },
  {
   "cell_type": "markdown",
   "id": "721f0c8e",
   "metadata": {},
   "source": [
    "24. Create a list with duplicate elements [1, 2, 2, 3, 4, 4, 5, 5].\n",
    "Convert the list into a set to remove duplicates.\n",
    "Print the resulting set."
   ]
  },
  {
   "cell_type": "code",
   "execution_count": 6,
   "id": "f2c6f099",
   "metadata": {},
   "outputs": [
    {
     "name": "stdout",
     "output_type": "stream",
     "text": [
      "Set with duplicates removed: {1, 2, 3, 4, 5}\n"
     ]
    }
   ],
   "source": [
    "#code\n",
    "# Create a list with duplicate elements\n",
    "mylist = [1, 2, 2, 3, 4, 4, 5, 5]\n",
    "\n",
    "# Convert the list to a set to remove duplicates\n",
    "set1 = set(mylist)\n",
    "\n",
    "# Print the resulting set\n",
    "print(\"Set with duplicates removed:\",set1)"
   ]
  },
  {
   "cell_type": "markdown",
   "id": "d00c05f8",
   "metadata": {},
   "source": [
    "# Sets\n",
    "The Python sets are highly useful to efficiently remove duplicate values from a collection like a list and to perform common math operations like unions and intersections. Some of the challenges people often encounter are when to use the various data types."
   ]
  },
  {
   "cell_type": "markdown",
   "id": "3828945f",
   "metadata": {},
   "source": [
    "25. Initialize two sets: {1, 2, 3, 4, 5} and {4, 5, 6, 7, 8}.\n",
    "Check if the first set is a subset of the second set.\n",
    "Check if the sets have any common elements."
   ]
  },
  {
   "cell_type": "code",
   "execution_count": 19,
   "id": "857b37c1",
   "metadata": {},
   "outputs": [
    {
     "name": "stdout",
     "output_type": "stream",
     "text": [
      "Set 1 is a subset of Set 2: False\n",
      "The sets have common elements: True\n"
     ]
    }
   ],
   "source": [
    "#code\n",
    "# Initialize two sets\n",
    "set1 = {1, 2, 3, 4, 5}\n",
    "set2 = {4, 5, 6, 7, 8}\n",
    "\n",
    "# Check if the first set is a subset of the second set\n",
    "print(\"Set 1 is a subset of Set 2:\",set1.issubset(set2))\n",
    "\n",
    "# Check if the sets have any common elements\n",
    "print(\"The sets have common elements:\",bool(set1.intersection(set2)))"
   ]
  },
  {
   "cell_type": "markdown",
   "id": "fc39333d",
   "metadata": {},
   "source": [
    "26. Create a list with elements [10, 20, 30, 40, 50].\n",
    "Convert the list into a tuple.\n",
    "Print the tuple."
   ]
  },
  {
   "cell_type": "code",
   "execution_count": 7,
   "id": "a05b7f06",
   "metadata": {},
   "outputs": [
    {
     "name": "stdout",
     "output_type": "stream",
     "text": [
      "Tuple: (10, 20, 30, 40, 50)\n"
     ]
    }
   ],
   "source": [
    "#code\n",
    "# Create a list\n",
    "mylist = [10, 20, 30, 40, 50]\n",
    "\n",
    "# Convert the list to a tuple\n",
    "tup = tuple(mylist)\n",
    "\n",
    "# Print the resulting tuple\n",
    "print(\"Tuple:\",tup)"
   ]
  },
  {
   "cell_type": "markdown",
   "id": "856eb46f",
   "metadata": {},
   "source": [
    "# Dictionary \n",
    "Python dictionaries allow us to associate a value to a unique key, and then to quickly access this value. It's a good idea to use them whenever we want to find (lookup for) a certain Python object. We can also use lists for this scope, but they are much slower than dictionaries.\n"
   ]
  },
  {
   "cell_type": "markdown",
   "id": "d267ab19",
   "metadata": {},
   "source": [
    "https://pynative.com/wp-content/uploads/2021/02/dictionaries-in-python.jpg"
   ]
  },
  {
   "cell_type": "markdown",
   "id": "bd7b606e",
   "metadata": {},
   "source": [
    "##### 27. Create an empty dictionary.\n",
    "Add the key-value pairs: 'apple': 3, 'banana': 5, 'cherry': 2.\n",
    "Modify the value of 'banana' to 8.\n",
    "Remove the key 'cherry' from the dictionary."
   ]
  },
  {
   "cell_type": "code",
   "execution_count": 8,
   "id": "39dfd790",
   "metadata": {},
   "outputs": [
    {
     "name": "stdout",
     "output_type": "stream",
     "text": [
      "Initial dictionary: {'apple': 3, 'banana': 5, 'cherry': 2}\n",
      "Dictionary after modifying 'banana': {'apple': 3, 'banana': 8, 'cherry': 2}\n",
      "Dictionary after removing 'cherry': {'apple': 3, 'banana': 8}\n"
     ]
    }
   ],
   "source": [
    "#code\n",
    "# Create an empty dictionary\n",
    "Dict = {}\n",
    "\n",
    "# Add key-value pairs\n",
    "Dict['apple'] = 3\n",
    "Dict['banana'] = 5\n",
    "Dict['cherry'] = 2\n",
    "\n",
    "# Print the initial dictionary\n",
    "print(\"Initial dictionary:\",Dict)\n",
    "\n",
    "# Modify the value of 'banana' to 8\n",
    "Dict['banana'] = 8\n",
    "\n",
    "# Print the dictionary after modifying 'banana'\n",
    "print(\"Dictionary after modifying 'banana':\",Dict)\n",
    "\n",
    "# Remove the key 'cherry' from the dictionary\n",
    "del Dict['cherry']\n",
    "\n",
    "# Print the dictionary after removing 'cherry'\n",
    "print(\"Dictionary after removing 'cherry':\",Dict)"
   ]
  },
  {
   "cell_type": "markdown",
   "id": "148bd9aa",
   "metadata": {},
   "source": [
    "##### 28. Create a dictionary representing the number of fruits: {'apple': 3, 'banana': 8, 'orange': 6}.\n",
    "Check if 'orange' is a key in the dictionary.\n",
    "Print all keys and values in separate lines."
   ]
  },
  {
   "cell_type": "code",
   "execution_count": 9,
   "id": "8d1297c9",
   "metadata": {},
   "outputs": [
    {
     "name": "stdout",
     "output_type": "stream",
     "text": [
      "'orange' is a key in the dictionary.\n",
      "Keys:\n",
      "apple\n",
      "banana\n",
      "orange\n",
      "Values:\n",
      "3\n",
      "8\n",
      "6\n"
     ]
    }
   ],
   "source": [
    "#code\n",
    "# Create a dictionary representing the number of fruits\n",
    "fruits = {'apple': 3, 'banana': 8, 'orange': 6}\n",
    "\n",
    "# Check if 'orange' is a key in the dictionary\n",
    "if 'orange' in fruits:\n",
    "    print(\"'orange' is a key in the dictionary.\")\n",
    "else:\n",
    "    print(\"'orange' is not a key in the dictionary.\")\n",
    "    \n",
    "# Print all keys in separate lines\n",
    "print(\"Keys:\")\n",
    "for key in fruits:\n",
    "    print(key)\n",
    "\n",
    "# Print all values in separate lines\n",
    "print(\"Values:\")\n",
    "for value in fruits.values():\n",
    "    print(value)"
   ]
  },
  {
   "cell_type": "markdown",
   "id": "7ec450ab",
   "metadata": {},
   "source": [
    "##### 29. Create a dictionary where the keys are names of countries and the values are dictionaries containing information about the capital city and population.\n",
    "Add at least three countries to the main dictionary.\n",
    "Print the details (capital and population) of a specific country."
   ]
  },
  {
   "cell_type": "code",
   "execution_count": 7,
   "id": "f945258d",
   "metadata": {},
   "outputs": [
    {
     "name": "stdout",
     "output_type": "stream",
     "text": [
      "Country: India\n",
      "Capital: New Delhi\n",
      "Population: 1380004385\n"
     ]
    }
   ],
   "source": [
    "#code\n",
    "# Create a dictionary of countries with capital city and population information\n",
    "countries_info = {\n",
    "    'USA': {'capital': 'Washington, D.C.', 'population': 331000000},\n",
    "    'India': {'capital': 'New Delhi', 'population': 1380004385},\n",
    "    'Brazil': {'capital': 'Brasília', 'population': 212559417}\n",
    "}\n",
    "\n",
    "# Print the details (capital and population) of a specific country\n",
    "country_name = 'India'\n",
    "if country_name in countries_info:\n",
    "    country_info = countries_info[country_name]\n",
    "    print(f\"Country: {country_name}\")\n",
    "    print(f\"Capital: {country_info['capital']}\")\n",
    "    print(f\"Population: {country_info['population']}\")"
   ]
  },
  {
   "cell_type": "markdown",
   "id": "5abcaf77",
   "metadata": {},
   "source": [
    "##### 30. Create a dictionary where keys are items (strings) and values are prices (floats).\n",
    "Ask the user to enter items and quantities they want to purchase.\n",
    "Calculate the total cost of items in the shopping cart."
   ]
  },
  {
   "cell_type": "code",
   "execution_count": 3,
   "id": "0fd421d2",
   "metadata": {},
   "outputs": [
    {
     "name": "stdout",
     "output_type": "stream",
     "text": [
      "Enter an item (or 'done' to finish): apple\n",
      "Enter the quantity of apple: 5\n",
      "Enter an item (or 'done' to finish): banana\n",
      "Enter the quantity of banana: 3\n",
      "Enter an item (or 'done' to finish): chocolate\n",
      "Enter the quantity of chocolate: 4\n",
      "Enter an item (or 'done' to finish): done\n",
      "Total cost of items in the shopping cart: $391.75\n"
     ]
    }
   ],
   "source": [
    "# Create a dictionary of items and their prices\n",
    "# Create a dictionary of items and their prices\n",
    "item_prices = {\n",
    "    \"apple\": 50.20,\n",
    "    \"banana\": 20.25,\n",
    "    \"orange\": 60.75,\n",
    "    \"chocolate\": 20.0,\n",
    "}\n",
    "\n",
    "# Initialize an empty shopping cart\n",
    "shopping_cart = {}\n",
    "\n",
    "# Ask the user for items and quantities\n",
    "while True:\n",
    "    item = input(\"Enter an item (or 'done' to finish): \")\n",
    "    if item == 'done':\n",
    "        break\n",
    "    quantity = int(input(f\"Enter the quantity of {item}: \"))\n",
    "    if item in item_prices:\n",
    "        if item in shopping_cart:\n",
    "            shopping_cart[item] += quantity\n",
    "        else:\n",
    "            shopping_cart[item] = quantity\n",
    "    else:\n",
    "        print(\"Item not found in the price list. Please try again.\")\n",
    "\n",
    "# Calculate the total cost\n",
    "total_cost = 0\n",
    "for item, quantity in shopping_cart.items():\n",
    "    if item in item_prices:\n",
    "        total_cost += item_prices[item]*quantity\n",
    "# Display the total cost\n",
    "print(f\"Total cost of items in the shopping cart: ${total_cost:.2f}\")"
   ]
  },
  {
   "cell_type": "code",
   "execution_count": null,
   "id": "60350531",
   "metadata": {},
   "outputs": [],
   "source": []
  }
 ],
 "metadata": {
  "kernelspec": {
   "display_name": "Python 3 (ipykernel)",
   "language": "python",
   "name": "python3"
  },
  "language_info": {
   "codemirror_mode": {
    "name": "ipython",
    "version": 3
   },
   "file_extension": ".py",
   "mimetype": "text/x-python",
   "name": "python",
   "nbconvert_exporter": "python",
   "pygments_lexer": "ipython3",
   "version": "3.11.5"
  }
 },
 "nbformat": 4,
 "nbformat_minor": 5
}
