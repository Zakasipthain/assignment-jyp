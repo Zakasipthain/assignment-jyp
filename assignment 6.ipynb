{
 "cells": [
  {
   "cell_type": "markdown",
   "id": "eb37ba93",
   "metadata": {},
   "source": [
    "### String Creation and Concatenation:"
   ]
  },
  {
   "cell_type": "code",
   "execution_count": 9,
   "id": "43cc2786",
   "metadata": {},
   "outputs": [
    {
     "name": "stdout",
     "output_type": "stream",
     "text": [
      "Enter the first string: hello\n",
      "Enter the second string: hi\n",
      "Concatenated string: hellohi\n"
     ]
    }
   ],
   "source": [
    "# Design a program to concatenate two input strings.\n",
    "\n",
    "# Get input from the user\n",
    "string1 = input(\"Enter the first string: \")\n",
    "string2 = input(\"Enter the second string: \")\n",
    "\n",
    "# Concatenate the strings\n",
    "result = string1 + string2\n",
    "\n",
    "# Display the concatenated string\n",
    "print(\"Concatenated string:\",result)"
   ]
  },
  {
   "cell_type": "code",
   "execution_count": 11,
   "id": "232f52f5",
   "metadata": {},
   "outputs": [
    {
     "name": "stdout",
     "output_type": "stream",
     "text": [
      "enter the desired specific length:my name is keonicx \n",
      "my name is keonicx \n"
     ]
    }
   ],
   "source": [
    "# Create a program to generate a random string of a specific length.\n",
    "\n",
    "# get input from the user\n",
    "str=input(\"enter the desired specific length:\")\n",
    "print(str)"
   ]
  },
  {
   "cell_type": "markdown",
   "id": "b844b125",
   "metadata": {},
   "source": [
    "## String Manipulation:\n"
   ]
  },
  {
   "cell_type": "code",
   "execution_count": 12,
   "id": "ee3a1399",
   "metadata": {},
   "outputs": [
    {
     "name": "stdout",
     "output_type": "stream",
     "text": [
      "Enter a string: hello my name is sam\n",
      "Reversed string: mas si eman ym olleh\n"
     ]
    }
   ],
   "source": [
    "# Write a program to reverse a given string\n",
    "\n",
    "# Function to reverse a string\n",
    "def reverse_string(input_string):\n",
    "    return input_string[::-1]\n",
    "\n",
    "# Input string\n",
    "input_string = input(\"Enter a string: \")\n",
    "\n",
    "# Call the function and print the reversed string\n",
    "reversed_string = reverse_string(input_string)\n",
    "print(\"Reversed string:\", reversed_string)"
   ]
  },
  {
   "cell_type": "code",
   "execution_count": 13,
   "id": "e91fcd02",
   "metadata": {},
   "outputs": [
    {
     "name": "stdout",
     "output_type": "stream",
     "text": [
      "Enter a string: hello this world is very beautiful \n",
      "String without vowels: hll ths wrld s vry btfl \n"
     ]
    }
   ],
   "source": [
    "# Design a program to remove all vowels from a given string\n",
    "\n",
    "# Input string\n",
    "input_string = input(\"Enter a string: \")\n",
    "\n",
    "# Remove vowels from the input string\n",
    "without_vowels = ''.join([char for char in input_string if char.lower() not in 'aeiou'])\n",
    "\n",
    "# Print the string without vowels\n",
    "print(\"String without vowels:\", without_vowels)"
   ]
  },
  {
   "cell_type": "code",
   "execution_count": 15,
   "id": "65ac2d06",
   "metadata": {},
   "outputs": [
    {
     "name": "stdout",
     "output_type": "stream",
     "text": [
      "Enter a sentence: hello this is zak\n",
      "Title Case Sentence: Hello This Is Zak\n"
     ]
    }
   ],
   "source": [
    "# Create a program to convert the first letter of each word in a sentence to uppercase. \n",
    "\n",
    "# Input sentence\n",
    "input_sentence = input(\"Enter a sentence: \")\n",
    "\n",
    "# Convert the first letter of each word to uppercase\n",
    "title_case_sentence = input_sentence.title()\n",
    "\n",
    "# Print the sentence in title case\n",
    "print(\"Title Case Sentence:\", title_case_sentence)"
   ]
  },
  {
   "cell_type": "markdown",
   "id": "b43211b4",
   "metadata": {},
   "source": [
    "### String Searching and Counting:"
   ]
  },
  {
   "cell_type": "code",
   "execution_count": 17,
   "id": "281cf23f",
   "metadata": {},
   "outputs": [
    {
     "name": "stdout",
     "output_type": "stream",
     "text": [
      "Enter a sentence: hello this is jakk\n",
      "Enter a word to check for: jaka\n"
     ]
    },
    {
     "data": {
      "text/plain": [
       "False"
      ]
     },
     "execution_count": 17,
     "metadata": {},
     "output_type": "execute_result"
    }
   ],
   "source": [
    "# Write a program to check if a specific word is present in a given sentence.\n",
    "\n",
    "# Input sentence\n",
    "input_sentence = input(\"Enter a sentence: \")\n",
    "\n",
    "# Input word to check for\n",
    "word_to_check = input(\"Enter a word to check for: \")\n",
    "\n",
    "# Check if the word is present in the sentence\n",
    "'with' in word_to_check"
   ]
  },
  {
   "cell_type": "code",
   "execution_count": 11,
   "id": "ccbfc75f",
   "metadata": {},
   "outputs": [
    {
     "name": "stdout",
     "output_type": "stream",
     "text": [
      "Enter a string: hello this is asxff132 speaking\n",
      "Enter a character to count: 2\n",
      "The character '2' appears 1 times in the string.\n"
     ]
    }
   ],
   "source": [
    "# Design a program to count the number of occurrences of a specific character in a string.\n",
    "\n",
    "# Input string\n",
    "input_string = input(\"Enter a string: \")\n",
    "\n",
    "# Input character to count\n",
    "char_to_count = input(\"Enter a character to count: \")\n",
    "\n",
    "# Count the occurrences of the character in the string\n",
    "count = input_string.count(char_to_count)\n",
    "\n",
    "# Print the result\n",
    "print(f\"The character '{char_to_count}' appears {count} times in the string.\")"
   ]
  },
  {
   "cell_type": "code",
   "execution_count": 18,
   "id": "b47a47df",
   "metadata": {},
   "outputs": [],
   "source": [
    "# Create a program to find the index of the first occurrence of a specific substring in a given string.\n"
   ]
  },
  {
   "cell_type": "markdown",
   "id": "9a1b055b",
   "metadata": {},
   "source": [
    "## String Slicing and Formatting:\n"
   ]
  },
  {
   "cell_type": "code",
   "execution_count": 21,
   "id": "fc86ea46",
   "metadata": {},
   "outputs": [
    {
     "name": "stdout",
     "output_type": "stream",
     "text": [
      "Enter a string: The bug was having an excellent day until he hit the windshield\n",
      "First three characters: The\n",
      "Last three characters: eld\n"
     ]
    }
   ],
   "source": [
    "# Write a program to extract the first three and last three characters from a given string.\n",
    "\n",
    "# Input string\n",
    "input_string = input(\"Enter a string: \")\n",
    "\n",
    "# Extract the first three characters\n",
    "first_three = input_string[:3]\n",
    "\n",
    "# Extract the last three characters\n",
    "last_three = input_string[-3:]\n",
    "\n",
    "# Print the results\n",
    "print(f\"First three characters: {first_three}\")\n",
    "print(f\"Last three characters: {last_three}\") "
   ]
  },
  {
   "cell_type": "code",
   "execution_count": 24,
   "id": "894d265e",
   "metadata": {},
   "outputs": [],
   "source": [
    "# Design a program to format a decimal number to display exactly two decimal places.\n",
    "\n"
   ]
  },
  {
   "cell_type": "code",
   "execution_count": 25,
   "id": "6b4577f8",
   "metadata": {},
   "outputs": [
    {
     "name": "stdout",
     "output_type": "stream",
     "text": [
      "Enter your name: Abdulla \n",
      "Enter your age: 24\n",
      "Hello, Abdulla ! You are 24 years old.\n"
     ]
    }
   ],
   "source": [
    "# Create a program that takes a user's name and age as input and prints a message using string formatting.\n",
    "\n",
    "# Input user's name\n",
    "name = input(\"Enter your name: \")\n",
    "\n",
    "# Input user's age\n",
    "age = input(\"Enter your age: \")\n",
    "\n",
    "# Create a message using string formatting\n",
    "message = f\"Hello, {name}! You are {age} years old.\"\n",
    "\n",
    "# Print the message\n",
    "print(message)"
   ]
  },
  {
   "cell_type": "markdown",
   "id": "3efcc177",
   "metadata": {},
   "source": [
    "## String Validation:\n",
    "\n"
   ]
  },
  {
   "cell_type": "code",
   "execution_count": 26,
   "id": "f3850bf9",
   "metadata": {},
   "outputs": [],
   "source": [
    "# Write a program to check if a given string is a palindrome"
   ]
  },
  {
   "cell_type": "code",
   "execution_count": 27,
   "id": "fc52fc6a",
   "metadata": {},
   "outputs": [],
   "source": [
    "# Design a program to validate if a given string is a valid email address\n"
   ]
  },
  {
   "cell_type": "code",
   "execution_count": 28,
   "id": "a55917e5",
   "metadata": {},
   "outputs": [],
   "source": [
    "# Create a program to validate if a given string is a valid phone number."
   ]
  },
  {
   "cell_type": "markdown",
   "id": "d5f79128",
   "metadata": {},
   "source": [
    "## String Functions:"
   ]
  },
  {
   "cell_type": "code",
   "execution_count": 30,
   "id": "32deb2be",
   "metadata": {},
   "outputs": [
    {
     "name": "stdout",
     "output_type": "stream",
     "text": [
      "Enter a sentence: The memory we used to share is no longer coherent\n",
      "Words in the sentence: ['The', 'memory', 'we', 'used', 'to', 'share', 'is', 'no', 'longer', 'coherent']\n"
     ]
    }
   ],
   "source": [
    "# Write a program to split a sentence into words using the split() function.\n",
    "\n",
    "# Input sentence\n",
    "sentence = input(\"Enter a sentence: \")\n",
    "\n",
    "# Split the sentence into words\n",
    "words = sentence.split()\n",
    "\n",
    "# Print the list of words\n",
    "print(\"Words in the sentence:\",words)"
   ]
  },
  {
   "cell_type": "code",
   "execution_count": 32,
   "id": "8954b3e5",
   "metadata": {},
   "outputs": [
    {
     "name": "stdout",
     "output_type": "stream",
     "text": [
      "Concatenated sentence: This is a list of words\n"
     ]
    }
   ],
   "source": [
    "# Design a program to concatenate a list of strings into a sentence using the join() function.\n",
    "\n",
    "# List of strings\n",
    "word_list = [\"This\", \"is\", \"a\", \"list\", \"of\", \"words\"]\n",
    "\n",
    "# Concatenate the list of strings into a sentence\n",
    "sentence = \" \".join(word_list)\n",
    "\n",
    "# Print the concatenated sentence\n",
    "print(\"Concatenated sentence:\",sentence)"
   ]
  },
  {
   "cell_type": "code",
   "execution_count": 1,
   "id": "89737722",
   "metadata": {},
   "outputs": [
    {
     "name": "stdout",
     "output_type": "stream",
     "text": [
      "Enter a sentence: Having no hair made him look even hairier\n",
      "Enter the word to replace: hairier\n",
      "Enter the replacement word: hairy\n",
      "Modified sentence: Having no hair made him look even hairy\n"
     ]
    }
   ],
   "source": [
    "# Create a program to replace a specific word in a sentence with another word using the replace() function.\n",
    "# Input sentence\n",
    "sentence = input(\"Enter a sentence: \")\n",
    "\n",
    "# Input word to replace\n",
    "word_to_replace = input(\"Enter the word to replace: \")\n",
    "\n",
    "# Input word to replace with\n",
    "replacement_word = input(\"Enter the replacement word: \")\n",
    "\n",
    "# Replace the word in the sentence\n",
    "new_sentence = sentence.replace(word_to_replace, replacement_word)\n",
    "\n",
    "# Print the modified sentence\n",
    "print(\"Modified sentence:\",new_sentence)"
   ]
  },
  {
   "cell_type": "code",
   "execution_count": null,
   "id": "659f607c",
   "metadata": {},
   "outputs": [],
   "source": []
  }
 ],
 "metadata": {
  "kernelspec": {
   "display_name": "Python 3 (ipykernel)",
   "language": "python",
   "name": "python3"
  },
  "language_info": {
   "codemirror_mode": {
    "name": "ipython",
    "version": 3
   },
   "file_extension": ".py",
   "mimetype": "text/x-python",
   "name": "python",
   "nbconvert_exporter": "python",
   "pygments_lexer": "ipython3",
   "version": "3.11.5"
  }
 },
 "nbformat": 4,
 "nbformat_minor": 5
}
