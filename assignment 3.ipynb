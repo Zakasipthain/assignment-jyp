{
 "cells": [
  {
   "cell_type": "code",
   "execution_count": 1,
   "id": "e6e4d301",
   "metadata": {},
   "outputs": [],
   "source": [
    "# python program to add two numbers\n",
    "x1=10\n",
    "y1=20"
   ]
  },
  {
   "cell_type": "code",
   "execution_count": 2,
   "id": "34195bb9",
   "metadata": {},
   "outputs": [],
   "source": [
    "ans=x1+y1 # sum of x1,y1"
   ]
  },
  {
   "cell_type": "code",
   "execution_count": 3,
   "id": "f4f32730",
   "metadata": {},
   "outputs": [
    {
     "data": {
      "text/plain": [
       "30"
      ]
     },
     "execution_count": 3,
     "metadata": {},
     "output_type": "execute_result"
    }
   ],
   "source": [
    "ans # print the result"
   ]
  },
  {
   "cell_type": "code",
   "execution_count": 5,
   "id": "426264e0",
   "metadata": {},
   "outputs": [
    {
     "data": {
      "text/plain": [
       "16"
      ]
     },
     "execution_count": 5,
     "metadata": {},
     "output_type": "execute_result"
    }
   ],
   "source": [
    "# python program to find the square \n",
    "\n",
    "# finding square of a number \n",
    "a=2**4\n",
    "# a will print square \n",
    "a "
   ]
  },
  {
   "cell_type": "code",
   "execution_count": 8,
   "id": "75e99f66",
   "metadata": {},
   "outputs": [
    {
     "data": {
      "text/plain": [
       "375.0"
      ]
     },
     "execution_count": 8,
     "metadata": {},
     "output_type": "execute_result"
    }
   ],
   "source": [
    "# python program to calculate the area of triangle \n",
    "# program to calculate the Area of triangle\n",
    "\n",
    "b=10\n",
    "h=25\n",
    "area=1.5*b*h # formula to find the area of triangle\n",
    "area  # result"
   ]
  },
  {
   "cell_type": "code",
   "execution_count": 9,
   "id": "8cc9f9b1",
   "metadata": {},
   "outputs": [
    {
     "data": {
      "text/plain": [
       "60000.0"
      ]
     },
     "execution_count": 9,
     "metadata": {},
     "output_type": "execute_result"
    }
   ],
   "source": [
    "# python program for simple interest \n",
    "\n",
    "p=100\n",
    "t=20\n",
    "r=3000\n",
    "si=p*t*r/100 # formula for simple interest \n",
    "si # result"
   ]
  },
  {
   "cell_type": "code",
   "execution_count": 11,
   "id": "85f2fa8d",
   "metadata": {},
   "outputs": [
    {
     "data": {
      "text/plain": [
       "234000.0"
      ]
     },
     "execution_count": 11,
     "metadata": {},
     "output_type": "execute_result"
    }
   ],
   "source": [
    "# python program for compund interest \n",
    "\n",
    "p= 3000 #p principal amount\n",
    "r= 24 # annual interest rate\n",
    "n=2 # no of time that interest is compunded per year\n",
    "t=3 # no of years the money is invested for\n",
    "A=p*(1+r/n)*(n*t) # formula for compund intrest \n",
    "A # result "
   ]
  },
  {
   "cell_type": "code",
   "execution_count": null,
   "id": "90888a3f",
   "metadata": {},
   "outputs": [],
   "source": []
  }
 ],
 "metadata": {
  "kernelspec": {
   "display_name": "Python 3 (ipykernel)",
   "language": "python",
   "name": "python3"
  },
  "language_info": {
   "codemirror_mode": {
    "name": "ipython",
    "version": 3
   },
   "file_extension": ".py",
   "mimetype": "text/x-python",
   "name": "python",
   "nbconvert_exporter": "python",
   "pygments_lexer": "ipython3",
   "version": "3.11.5"
  }
 },
 "nbformat": 4,
 "nbformat_minor": 5
}
