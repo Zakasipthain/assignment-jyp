{
 "cells": [
  {
   "cell_type": "code",
   "execution_count": 3,
   "id": "175dbed9",
   "metadata": {},
   "outputs": [
    {
     "name": "stdout",
     "output_type": "stream",
     "text": [
      "User Information:\n",
      "Name: abdul\n",
      "Age: 35\n",
      "Email: abdulmk@xyz.com\n",
      "PhoneNumber: +919886325672\n",
      "Addresses: banglore,karnataka,india\n",
      "Profession: software developer\n"
     ]
    }
   ],
   "source": [
    "user_name=\"abdul\"\n",
    "user_age=35\n",
    "user_email=\"abdulmk@xyz.com\"\n",
    "user_phone_number=\"+919886325672\"\n",
    "user_addresses=\"banglore,karnataka,india\"\n",
    "user_profession=\"software developer\"\n",
    "\n",
    "paragraph = f\"User Information:\\nName: {user_name}\\nAge: {user_age}\\nEmail: {user_email}\\nPhoneNumber: {user_phone_number}\\nAddresses: {user_addresses}\\nProfession: {user_profession}\"\n",
    "\n",
    "print(paragraph) "
   ]
  },
  {
   "cell_type": "code",
   "execution_count": null,
   "id": "31844764",
   "metadata": {},
   "outputs": [],
   "source": []
  }
 ],
 "metadata": {
  "kernelspec": {
   "display_name": "Python 3 (ipykernel)",
   "language": "python",
   "name": "python3"
  },
  "language_info": {
   "codemirror_mode": {
    "name": "ipython",
    "version": 3
   },
   "file_extension": ".py",
   "mimetype": "text/x-python",
   "name": "python",
   "nbconvert_exporter": "python",
   "pygments_lexer": "ipython3",
   "version": "3.11.5"
  }
 },
 "nbformat": 4,
 "nbformat_minor": 5
}
