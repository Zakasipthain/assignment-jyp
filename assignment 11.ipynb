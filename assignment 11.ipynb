{
 "cells": [
  {
   "cell_type": "code",
   "execution_count": 1,
   "id": "739e5c64",
   "metadata": {},
   "outputs": [],
   "source": [
    "class Engineer:\n",
    "    def __init__(self, name, experience, skills):\n",
    "        self.name = name\n",
    "        self.experience = experience\n",
    "        self.skills = skills\n",
    "\n",
    "    def job_description(self):\n",
    "        print(f\"Role: {self.__class__.__name__}\")\n",
    "        print(f\"Name: {self.name}\")\n",
    "        print(f\"Experience: {self.experience} years\")\n",
    "        print(f\"Skills: {', '.join(self.skills)}\") "
   ]
  },
  {
   "cell_type": "code",
   "execution_count": 2,
   "id": "dbeef690",
   "metadata": {},
   "outputs": [
    {
     "name": "stdout",
     "output_type": "stream",
     "text": [
      "Role: DataTranslator\n",
      "Name: Alice\n",
      "Experience: 5 years\n",
      "Skills: Translation, Data Analysis\n",
      "Languages Known: English, Spanish, French\n"
     ]
    }
   ],
   "source": [
    "class DataTranslator(Engineer):\n",
    "    def __init__(self, name, experience, skills, languages_known):\n",
    "        super().__init__(name, experience, skills)\n",
    "        self.languages_known = languages_known\n",
    "\n",
    "    def job_description(self):\n",
    "        super().job_description()\n",
    "        print(f\"Languages Known: {', '.join(self.languages_known)}\")\n",
    "\n",
    "data_translator = DataTranslator(\"Alice\", 5, [\"Translation\", \"Data Analysis\"], [\"English\", \"Spanish\", \"French\"])\n",
    "data_translator.job_description()"
   ]
  },
  {
   "cell_type": "code",
   "execution_count": 3,
   "id": "e447a32c",
   "metadata": {},
   "outputs": [
    {
     "name": "stdout",
     "output_type": "stream",
     "text": [
      "Role: DataScientist\n",
      "Name: Bob\n",
      "Experience: 8 years\n",
      "Skills: Machine Learning, Python\n",
      "Domain Expertise: Healthcare Analytics\n"
     ]
    }
   ],
   "source": [
    "class DataScientist(Engineer):\n",
    "    def __init__(self, name, experience, skills, domain_expertise):\n",
    "        super().__init__(name, experience, skills)\n",
    "        self.domain_expertise = domain_expertise\n",
    "\n",
    "    def job_description(self):\n",
    "        super().job_description()\n",
    "        print(f\"Domain Expertise: {self.domain_expertise}\")\n",
    "        \n",
    "data_scientist = DataScientist(\"Bob\", 8, [\"Machine Learning\", \"Python\"], \"Healthcare Analytics\")\n",
    "\n",
    "data_scientist.job_description()"
   ]
  },
  {
   "cell_type": "code",
   "execution_count": 4,
   "id": "c7433fb1",
   "metadata": {},
   "outputs": [
    {
     "name": "stdout",
     "output_type": "stream",
     "text": [
      "Role: InformationDesigner\n",
      "Name: Charlie\n",
      "Experience: 6 years\n",
      "Skills: UI/UX, Graphic Design\n",
      "Design Tools: Adobe Illustrator, Sketch\n"
     ]
    }
   ],
   "source": [
    "class InformationDesigner(Engineer):\n",
    "    def __init__(self, name, experience, skills, design_tools):\n",
    "        super().__init__(name, experience, skills)\n",
    "        self.design_tools = design_tools\n",
    "\n",
    "    def job_description(self):\n",
    "        super().job_description()\n",
    "        print(f\"Design Tools: {', '.join(self.design_tools)}\")\n",
    "        \n",
    "info_designer = InformationDesigner(\"Charlie\", 6, [\"UI/UX\", \"Graphic Design\"], [\"Adobe Illustrator\", \"Sketch\"])\n",
    "\n",
    "info_designer.job_description()"
   ]
  },
  {
   "cell_type": "code",
   "execution_count": 5,
   "id": "7b13cd7b",
   "metadata": {},
   "outputs": [
    {
     "name": "stdout",
     "output_type": "stream",
     "text": [
      "Role: MachineLearningEngineer\n",
      "Name: David\n",
      "Experience: 4 years\n",
      "Skills: Data Processing, Deep Learning\n",
      "Algorithms Used: CNN, RNN\n"
     ]
    }
   ],
   "source": [
    "class MachineLearningEngineer(Engineer):\n",
    "    def __init__(self, name, experience, skills, algorithms_used):\n",
    "        super().__init__(name, experience, skills)\n",
    "        self.algorithms_used = algorithms_used\n",
    "\n",
    "    def job_description(self):\n",
    "        super().job_description()\n",
    "        print(f\"Algorithms Used: {', '.join(self.algorithms_used)}\")\n",
    "        \n",
    "ml_engineer = MachineLearningEngineer(\"David\", 4, [\"Data Processing\", \"Deep Learning\"], [\"CNN\", \"RNN\"])\n",
    "\n",
    "ml_engineer.job_description()"
   ]
  },
  {
   "cell_type": "code",
   "execution_count": 6,
   "id": "ac4a45f4",
   "metadata": {},
   "outputs": [
    {
     "name": "stdout",
     "output_type": "stream",
     "text": [
      "Role: DataScienceManager\n",
      "Name: Eve\n",
      "Experience: 10 years\n",
      "Skills: Leadership, Data Strategy\n",
      "Team Managed: 15\n"
     ]
    }
   ],
   "source": [
    "class DataScienceManager(Engineer):\n",
    "    def __init__(self, name, experience, skills, team_managed):\n",
    "        super().__init__(name, experience, skills)\n",
    "        self.team_managed = team_managed\n",
    "\n",
    "    def job_description(self):\n",
    "        super().job_description()\n",
    "        print(f\"Team Managed: {self.team_managed}\")\n",
    "        \n",
    "        \n",
    "data_science_manager = DataScienceManager(\"Eve\", 10, [\"Leadership\", \"Data Strategy\"], 15)\n",
    "\n",
    "data_science_manager.job_description()"
   ]
  },
  {
   "cell_type": "code",
   "execution_count": null,
   "id": "f9861593",
   "metadata": {},
   "outputs": [],
   "source": []
  }
 ],
 "metadata": {
  "kernelspec": {
   "display_name": "Python 3 (ipykernel)",
   "language": "python",
   "name": "python3"
  },
  "language_info": {
   "codemirror_mode": {
    "name": "ipython",
    "version": 3
   },
   "file_extension": ".py",
   "mimetype": "text/x-python",
   "name": "python",
   "nbconvert_exporter": "python",
   "pygments_lexer": "ipython3",
   "version": "3.11.5"
  }
 },
 "nbformat": 4,
 "nbformat_minor": 5
}
